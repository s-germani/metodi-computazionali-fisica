{
 "cells": [
  {
   "cell_type": "markdown",
   "id": "8625fa3d",
   "metadata": {},
   "source": [
    "# Esercitazione su Metodi Montecarlo"
   ]
  },
  {
   "cell_type": "markdown",
   "id": "9e166f67",
   "metadata": {},
   "source": [
    "## Diffusione 2D\n",
    "\n",
    "Produrre uno script python che definisca una procedura di Random Walk in due dimensioni.\n",
    "\n",
    "#### Diffusione 2D simmetrica\n",
    "\n",
    "Ad ogni passo lo spostamento può andare con uguale probabilità in ogni direzione (probabilità costante per $\\varphi \\in [0,2\\pi]$ )\n",
    "* $\\Delta x = s \\cos \\varphi$;\n",
    "* $\\Delta y = s \\sin \\varphi$;\n",
    "\n",
    "1. Produrre un grafico 2D delle posizioni di 5 random walker per 1000 passi.\n",
    "2. Produrre un grafico 2D della posizione di 1000 random walker dopo 10, 100 e 1000 passi.\n",
    "\n",
    "\n",
    "#### Diffusione 2D asimmetrica\n",
    "\n",
    "3. In uno script seaparato generare una distribuzione random di $\\varphi$ tale che  $p(\\varphi) = \\frac{1}{4} \\sin{\\frac{\\varphi}{2}}$.\n",
    "    * SUGGERIMENTO: utilizzare il metodo della cumulatva;\n",
    "    * SUGGERIMENTO: controllare che il risultato sia corretto attraverso un istogramma dei valori di $\\varphi$ generati (`plt.hist`).\n",
    "\n",
    "4. Modificare lo script python per la diffusione 2D aggiungendo i grafici del punto 1. e 2. relativi alla diffusione asimmetrica secondo $p(\\varphi) = \\frac{1}{4} \\sin{\\frac{\\varphi}{2}}$.\n",
    "\n",
    "\n",
    "#### Andamento Random Walk  2D\n",
    "\n",
    "5. Produrre un grafico della distanza quadratica media per la diffusione simmetrica in funzione di:\n",
    "   * Numero di passi;\n",
    "   * Dimensione passo.\n"
   ]
  }
 ],
 "metadata": {
  "kernelspec": {
   "display_name": "Python 3 (ipykernel)",
   "language": "python",
   "name": "python3"
  },
  "language_info": {
   "codemirror_mode": {
    "name": "ipython",
    "version": 3
   },
   "file_extension": ".py",
   "mimetype": "text/x-python",
   "name": "python",
   "nbconvert_exporter": "python",
   "pygments_lexer": "ipython3",
   "version": "3.8.10"
  }
 },
 "nbformat": 4,
 "nbformat_minor": 5
}
