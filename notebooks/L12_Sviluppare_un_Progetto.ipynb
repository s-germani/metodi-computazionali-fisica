{
 "cells": [
  {
   "cell_type": "markdown",
   "id": "86ae794c",
   "metadata": {},
   "source": [
    "# Sviluppare un Progetto"
   ]
  },
  {
   "cell_type": "markdown",
   "id": "baab5c0d",
   "metadata": {},
   "source": [
    "## Comprendere il problema"
   ]
  },
  {
   "cell_type": "markdown",
   "id": "7b70579d",
   "metadata": {},
   "source": [
    "Al momento di accingersi a sviluppare un progetto è necessario comprendere a fondo il problema in oggetto e quale è il risultato che si vuole ottenere.\n",
    "\n",
    "E' inutile se non controproducente iniziare a scrivere codice senza avere le idee chiare su cosa fare."
   ]
  },
  {
   "cell_type": "markdown",
   "id": "e86edfc9",
   "metadata": {},
   "source": [
    "## Suddividere il progetto in passi semplici"
   ]
  },
  {
   "cell_type": "markdown",
   "id": "709b67c8",
   "metadata": {},
   "source": [
    "In moltissimi casi, se non tutti,  è bene suddividere il progetto in una catena di passi semplici ognuno dei quali può essere facilmente implementato e testato separatamente (*Divide et Impera*).\n",
    "\n",
    "Il modo in cui suddivedere le attività andrebbe deciso all'inizio sulla base della comprensione del problema. Ovviamente la suddivisione può essere rivista se risultasse non adeguata durante lo svolgiment del lavoro.\n",
    "\n",
    "Nel caso di analisi dati che prevedano più passaggi è buona norma strutturare il tutto in modo da salvare file di dati intermedi da controllare prima di passare all ostadio successivo."
   ]
  },
  {
   "cell_type": "markdown",
   "id": "dd134a0a",
   "metadata": {},
   "source": [
    "## Iniziare con una versione semplificata"
   ]
  },
  {
   "cell_type": "markdown",
   "id": "e7411acb",
   "metadata": {},
   "source": [
    "In generale può essere utile partire da una versione semplificata del problema o del passo specifico  per capire l'essenza dei passaggi base e svilupparli più facilmente.\n"
   ]
  },
  {
   "cell_type": "markdown",
   "id": "7cc2add7",
   "metadata": {},
   "source": [
    "## Sviluppare un passo alla volta e combinare le parti implementate gradualmente"
   ]
  },
  {
   "cell_type": "markdown",
   "id": "bc49502d",
   "metadata": {},
   "source": [
    "Dopo aver suddiviso il problema in passi di più facile relaizzazione è consigliabile combinarli uno alla volta per verificare che il risultato sia quello voluto.  Alcune volte due funzioalità sviluppate separatamente, una volta combinate possono dare risultati inattesi."
   ]
  },
  {
   "cell_type": "markdown",
   "id": "e2a75e84",
   "metadata": {},
   "source": [
    "## Organizzazione del codice"
   ]
  },
  {
   "cell_type": "markdown",
   "id": "263d9d09",
   "metadata": {},
   "source": [
    "E' consigliabile strutturare il codice in moduli e funzioni in modo che, una volta capita la struttura, sia semplice trovare quale parte di codice esegue una data attività.\n",
    "\n",
    "E' consigliabile che ognuno dei passi in cui si è suddiviso il progetto corrisponda ad una funzione o ad un metodo di una classe (che poi può richiamare altre funzioni o metodi)\n",
    "\n",
    "E' consigliabile che ogni file descriva all'inizio cosa contiene e per cosa vada usato.\n",
    "\n",
    "E' consigliabile che le funzioni o metodi principali abbiano dei commenti o meglio, docstring, con spiegazioni concise (ma sufficienti a capire senza leggere tutto il codice)."
   ]
  },
  {
   "cell_type": "markdown",
   "id": "12c62ecc",
   "metadata": {},
   "source": [
    "Se ci sono passi fondamntali che devono fornire risultati intermedi potrebbe essre utile fare in modo che tali passaggi  possano essere eseguiti singolarmente anche a progetto completato. \n",
    "\n",
    "Ad esempio nel caso in cui si producano dei grafici sulla base di dati che sono i lrisultato di una elaborazione è consigliabile salvare i dati in un file ed avere la posisbilità di produrre i grafici semplicemente rileggendo il file di dati prodotto."
   ]
  },
  {
   "cell_type": "markdown",
   "id": "d16aae7b",
   "metadata": {},
   "source": [
    "## Richieste specifiche per il progetto di esame"
   ]
  },
  {
   "cell_type": "markdown",
   "id": "9ddbba1c",
   "metadata": {},
   "source": [
    "Il file README associato al repository GitHub  dovrebbe  contenere una breve descrizione del progetto e di come è strutturato."
   ]
  },
  {
   "cell_type": "markdown",
   "id": "ce0d678e",
   "metadata": {},
   "source": [
    "Il codice dovrebbe essere strutturato in modo da avere un o più script python da esegurie. \n",
    "\n",
    "Ovviamente ci possono essere file in più,  per la definizione di  moduli o altro, che vengano richamati dagli script principali."
   ]
  },
  {
   "cell_type": "markdown",
   "id": "3f1831cb",
   "metadata": {},
   "source": [
    "Ii file README dovrebbe spiegare:\n",
    "* come eseguire i file python;\n",
    "* con quale successione eseguire gli script;\n",
    "* cosa attendersi da ogni esecuzione;"
   ]
  },
  {
   "cell_type": "markdown",
   "id": "1ab57cc7",
   "metadata": {},
   "source": [
    "File di dati e grafici prodotti dall'esecuzione non devono essere inclusi nel repository"
   ]
  }
 ],
 "metadata": {
  "kernelspec": {
   "display_name": "Python 3 (ipykernel)",
   "language": "python",
   "name": "python3"
  },
  "language_info": {
   "codemirror_mode": {
    "name": "ipython",
    "version": 3
   },
   "file_extension": ".py",
   "mimetype": "text/x-python",
   "name": "python",
   "nbconvert_exporter": "python",
   "pygments_lexer": "ipython3",
   "version": "3.8.10"
  }
 },
 "nbformat": 4,
 "nbformat_minor": 5
}
