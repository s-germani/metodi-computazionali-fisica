{
 "cells": [
  {
   "cell_type": "markdown",
   "id": "44b3e81d",
   "metadata": {},
   "source": [
    "# Git e GitHub"
   ]
  },
  {
   "cell_type": "code",
   "execution_count": 1,
   "id": "0eeb29c4",
   "metadata": {},
   "outputs": [],
   "source": [
    "from IPython.display import Image"
   ]
  },
  {
   "cell_type": "code",
   "execution_count": 2,
   "id": "f72735bc",
   "metadata": {},
   "outputs": [
    {
     "data": {
      "text/html": [
       "<img src=\"https://phdcomics.com/comics/archive/phd101212s.gif\"/>"
      ],
      "text/plain": [
       "<IPython.core.display.Image object>"
      ]
     },
     "execution_count": 2,
     "metadata": {},
     "output_type": "execute_result"
    }
   ],
   "source": [
    "Image(url='https://phdcomics.com/comics/archive/phd101212s.gif')"
   ]
  },
  {
   "cell_type": "markdown",
   "id": "84862d3f",
   "metadata": {},
   "source": [
    "## VCS"
   ]
  },
  {
   "cell_type": "markdown",
   "id": "4ff7578e",
   "metadata": {},
   "source": [
    "Durante lo sviluppo di software, e non solo, è utile tenere traccia dei cambiamenti e poter salvare le diverse versioni del pacchetto sviluppato in modo che siano sempre recuperabili.\n",
    "Questa è  lafunzionalità fornita da un  sistema per il *controllo di versione* o *Version Control  System* (VCS). A volte può essere indicato come *Revision Control Software* (RCS).\n",
    "\n",
    "Inoltre nel caso di progetti collaborativi con più sviluppatori o autori un CVS facilita l'integrazione del lavoro di persone diverse in maniera controllata. \n",
    "\n",
    "I sistemi per il controllo di versione sono anche utilizzati per redigere documenti in maniera collaborativa.\n",
    "\n",
    "#### Funzinamento base di un VCS\n",
    "\n",
    "\n",
    "Il codice o altro contenuto è immagazzianto in un **repository**.\n",
    "\n",
    "Ogni utente può scaricare localmente il software, fare delle modifiche nella propria versione locale e poi trasferire la parte di codice modificata sul repository. \n",
    "\n",
    "Il codice  scaricato successivamente da un secondo utente conterrà le modifiche appena apporatte dal primo utente.\n"
   ]
  },
  {
   "cell_type": "markdown",
   "id": "dd82fbc7",
   "metadata": {},
   "source": [
    "## Git"
   ]
  },
  {
   "cell_type": "markdown",
   "id": "ca847cb3",
   "metadata": {},
   "source": [
    "`git` (<a href=https://git-scm.com/> https://git-scm.com/</a>) è attualemte il sistema VCS più diffuso. Viene utilizzato per sviluppare il software di quasi tutte le collaborazioni scientifiche. \n",
    "\n",
    "`git` può essere istallato e, nella sua versione base, consiste in una serie di istruzioni da riga di comando."
   ]
  },
  {
   "cell_type": "markdown",
   "id": "5b386719",
   "metadata": {},
   "source": [
    "## GitHub"
   ]
  },
  {
   "cell_type": "markdown",
   "id": "e3b99fc4",
   "metadata": {},
   "source": [
    "Esistono diverse piattaforme online che offrono la possibilità di avere repository `git` su cloud (GitHub, GitLab,...). \n",
    "Il repository è accessibile online dagli utenti abilitati.\n",
    "\n",
    "\n",
    "Durante il corso useremo GitHub (<a href=https://github.com/>https://github.com/</a>):\n",
    "1. Il materiale relativo al corso sarà messo a disposizione su un apposito repository ().\n",
    "2. Ogni studente creerà il proprio repository dedicato al corso il quale conterrà il risultato delle attivitàsvolte nel  laboratorio di informatica.\n",
    "\n",
    "`git` e GitHub, anche se strettamente legati, sono due entità distinte e separate. `git` è un software gratuito ed open source (inizialmente sviluppato da Linus Torvalds, ideatore anche di Linux), GitHub è una piattaforma, gestita da una azienda privata legata a Microsoft, che offre servizi sia gratuiti che a pagamento."
   ]
  },
  {
   "cell_type": "markdown",
   "id": "900a9223",
   "metadata": {},
   "source": [
    "## Esempio di utilizzo di Git e  GitHub"
   ]
  },
  {
   "cell_type": "code",
   "execution_count": null,
   "id": "ad0526c5",
   "metadata": {},
   "outputs": [],
   "source": []
  },
  {
   "cell_type": "markdown",
   "id": "5ec90f67",
   "metadata": {},
   "source": [
    "#### Creare il proprio repository su GitHub\n",
    "\n",
    "Collegandosi al portale GitHub (<a href=https://github.com/>https://github.com/</a>) è possibile creare un proprio account satbilendo il proprio user name e password e fornendo ip proprio indirzzo e-mail.\n",
    "\n",
    "Andando al tab `Repositories` si può creare un nuovo repository cliccanso sul pulsante `New` e fornendo le informazinini minime richieste (nome repository, accesso pubblico o privato, eventuale README file). "
   ]
  },
  {
   "cell_type": "markdown",
   "id": "21ba8e1e",
   "metadata": {},
   "source": [
    "#### Clone\n",
    "\n",
    "Una volta creato il repository viene creata la pagina corrispondnente, entrando in essa attarverso il browser si può notare il pulsante verde `Code`. Cliccando su tale pulsante si ha accesso al link per scaricare il codice sulla propria macchina. Il link dovrebbe sessere della forma: `https://github.com/nome-utente/nome-repository.git` dove `nome-utente` è il nome utente scelto al momento della registrazione e `nome-repository` corrisponde al nome del repository scelto al momento della creazione.\n",
    "\n",
    "Accedendo ad un terminale e spostandosi in una cartella di lvaoro adatta possiamo scaricare (**clonare**) il codice attraverso il comando:\n",
    "\n",
    "`git clone https://github.com/nome-utente/nome-repository.git`\n",
    "\n",
    "che dovrebbe creare una cartella chiamata come `nome-repository` con all'interno tutto il contenuto del repository stesso.\n"
   ]
  },
  {
   "cell_type": "markdown",
   "id": "685cb67a",
   "metadata": {},
   "source": [
    "#### Modifica README\n",
    "\n",
    "Per lavorare sul codice è utile spostarsi  all'interno della cartella `nome-repository`.\n",
    "\n",
    "Possiamo poi modificare il file `README.md` aggiungendo delle informazioni utili. "
   ]
  },
  {
   "cell_type": "markdown",
   "id": "99873d5b",
   "metadata": {},
   "source": [
    "#### Status\n",
    "\n",
    "A questo punto la nostra versione locale dovrebbe essere diversa da quella nel repository.\n",
    "Questo può essere verificato attraverso il comando:\n",
    "\n",
    "`git status`\n",
    "\n",
    "che ci dovrebbe far vedere che il file `README.md` è stato modificato."
   ]
  },
  {
   "cell_type": "markdown",
   "id": "30019689",
   "metadata": {},
   "source": [
    "#### Commit\n",
    "\n",
    "Per rendere la nuova versione del file `README.md` quella ufficale nel repository bisogna comunicarlo tramite il comando `commit`. In genere si può fare il `commit` di più file insieme ed e sempre necessario aggiungere un messaggio con le informazioni relative alle modifiche apportate.\n",
    "\n",
    "Nel nostro caso possiamo usare l'istruzione da riga di comando:\n",
    "\n",
    "`git commit README.md  -m 'Added info to README'`\n",
    "\n",
    "da notare l'opzione `-m` seguta da una spiegazione fra apici. \n",
    "\n",
    "\n",
    "Possiamo anche verificare se il comando è andato a buon fine tramite:\n",
    "\n",
    "`git status`."
   ]
  },
  {
   "cell_type": "markdown",
   "id": "e52bb685",
   "metadata": {},
   "source": [
    "#### Push\n",
    "\n",
    "Sebbene la modifica sia stata presa in carico dal sistema, il codice non è ancora stato copiato sul repository.\n",
    "Perchè la modifica apporatta diventi pienamente operativa è necessario utilizzare il comando:\n",
    "\n",
    "`git push`\n",
    "\n",
    "che copia effettivamente le modifiche per cui si è fatto il `commit`.\n",
    "\n",
    "\n",
    "Infine possiamo di nuovo verificare lo stato della nostra cartella di lavoro con `git status`."
   ]
  },
  {
   "cell_type": "markdown",
   "id": "2070ba5f",
   "metadata": {},
   "source": [
    "#### Verifica su repository GitHub\n",
    "\n",
    "Se controlliamo il repository sul portale GitHub dovremmo vedere una barra che ci indica che ci sono stato delle modifiche o *commits*. Cliccando possiamo accedere alle modifiche o al messaggio inserito al momento del `commit`."
   ]
  },
  {
   "cell_type": "markdown",
   "id": "554b3a0e",
   "metadata": {},
   "source": [
    "#### Add\n",
    "\n",
    "Se si vuolae aggiungere un file non oresente nel repository, prima di fare il `commit` è necessario utilizzare il comando `add`.\n",
    "\n",
    "Ad esempio per aggiungere il file `newfile.py`:\n",
    "\n",
    "`git add newfile.py`"
   ]
  },
  {
   "cell_type": "markdown",
   "id": "52eae9ce",
   "metadata": {},
   "source": [
    "per completare l'opearzione possiamo procedere con `commit` e `push`, ad esempio:\n",
    "\n",
    "`git commit newfile.py -m 'Added newfile.py'`\n",
    "\n",
    "`git push`\n"
   ]
  }
 ],
 "metadata": {
  "kernelspec": {
   "display_name": "Python 3",
   "language": "python",
   "name": "python3"
  },
  "language_info": {
   "codemirror_mode": {
    "name": "ipython",
    "version": 3
   },
   "file_extension": ".py",
   "mimetype": "text/x-python",
   "name": "python",
   "nbconvert_exporter": "python",
   "pygments_lexer": "ipython3",
   "version": "3.9.1"
  }
 },
 "nbformat": 4,
 "nbformat_minor": 5
}
