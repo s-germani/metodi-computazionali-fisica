{
 "cells": [
  {
   "cell_type": "markdown",
   "id": "4fb25fb5",
   "metadata": {},
   "source": [
    "# Rappresentazione Numerica ed Errori"
   ]
  },
  {
   "cell_type": "code",
   "execution_count": 1,
   "id": "2369ea7b",
   "metadata": {},
   "outputs": [],
   "source": [
    "import sys\n",
    "import math\n",
    "import numpy as np\n"
   ]
  },
  {
   "cell_type": "code",
   "execution_count": 2,
   "id": "3be5ad27",
   "metadata": {
    "scrolled": true
   },
   "outputs": [
    {
     "data": {
      "text/plain": [
       "3.141592653589793"
      ]
     },
     "execution_count": 2,
     "metadata": {},
     "output_type": "execute_result"
    }
   ],
   "source": [
    "# Vediamo il numero di cifre con cui viene rappresentato il pi greco\n",
    "math.pi\n"
   ]
  },
  {
   "cell_type": "markdown",
   "id": "5e53b8af",
   "metadata": {},
   "source": [
    "## Tipi di Dati"
   ]
  },
  {
   "cell_type": "code",
   "execution_count": 3,
   "id": "e5372864",
   "metadata": {},
   "outputs": [
    {
     "data": {
      "text/plain": [
       "str"
      ]
     },
     "execution_count": 3,
     "metadata": {},
     "output_type": "execute_result"
    }
   ],
   "source": [
    "s = 'ciao'\n",
    "type(s)"
   ]
  },
  {
   "cell_type": "code",
   "execution_count": 4,
   "id": "a42f641c",
   "metadata": {},
   "outputs": [
    {
     "data": {
      "text/plain": [
       "int"
      ]
     },
     "execution_count": 4,
     "metadata": {},
     "output_type": "execute_result"
    }
   ],
   "source": [
    "n = 10\n",
    "type(n)"
   ]
  },
  {
   "cell_type": "code",
   "execution_count": 5,
   "id": "890d914d",
   "metadata": {},
   "outputs": [
    {
     "data": {
      "text/plain": [
       "float"
      ]
     },
     "execution_count": 5,
     "metadata": {},
     "output_type": "execute_result"
    }
   ],
   "source": [
    "f = 10.0\n",
    "type(f)"
   ]
  },
  {
   "cell_type": "code",
   "execution_count": 6,
   "id": "f657bb03",
   "metadata": {},
   "outputs": [
    {
     "data": {
      "text/plain": [
       "complex"
      ]
     },
     "execution_count": 6,
     "metadata": {},
     "output_type": "execute_result"
    }
   ],
   "source": [
    "c =10j\n",
    "type(c)"
   ]
  },
  {
   "cell_type": "code",
   "execution_count": 7,
   "id": "ea0a4966",
   "metadata": {},
   "outputs": [
    {
     "data": {
      "text/plain": [
       "complex"
      ]
     },
     "execution_count": 7,
     "metadata": {},
     "output_type": "execute_result"
    }
   ],
   "source": [
    "c1 = 4+2j\n",
    "type(c1)"
   ]
  },
  {
   "cell_type": "code",
   "execution_count": 8,
   "id": "599c486b",
   "metadata": {},
   "outputs": [
    {
     "name": "stdout",
     "output_type": "stream",
     "text": [
      "(7+1j)\n"
     ]
    }
   ],
   "source": [
    "c2 = 3-1j\n",
    "cc = c1+c2\n",
    "print(cc)\n"
   ]
  },
  {
   "cell_type": "code",
   "execution_count": 9,
   "id": "7a4b9709",
   "metadata": {},
   "outputs": [
    {
     "data": {
      "text/plain": [
       "list"
      ]
     },
     "execution_count": 9,
     "metadata": {},
     "output_type": "execute_result"
    }
   ],
   "source": [
    "ll = [2,3,4,5,6]\n",
    "type(ll)"
   ]
  },
  {
   "cell_type": "markdown",
   "id": "0e5a18c8",
   "metadata": {},
   "source": [
    "## Bits,  Bytes e Basi di Rappresentazione"
   ]
  },
  {
   "cell_type": "code",
   "execution_count": 10,
   "id": "68095f2f",
   "metadata": {},
   "outputs": [
    {
     "name": "stdout",
     "output_type": "stream",
     "text": [
      "0b1010\n",
      "-0b1010\n",
      "0b1001010100000010111110010000000000\n"
     ]
    }
   ],
   "source": [
    "print(bin(n))\n",
    "print(bin(-n))\n",
    "print(bin(n**10))"
   ]
  },
  {
   "cell_type": "code",
   "execution_count": 11,
   "id": "1f8e46f2",
   "metadata": {},
   "outputs": [
    {
     "data": {
      "text/plain": [
       "4"
      ]
     },
     "execution_count": 11,
     "metadata": {},
     "output_type": "execute_result"
    }
   ],
   "source": [
    "n.bit_length()"
   ]
  },
  {
   "cell_type": "code",
   "execution_count": 12,
   "id": "86ca51bf",
   "metadata": {},
   "outputs": [
    {
     "data": {
      "text/plain": [
       "14"
      ]
     },
     "execution_count": 12,
     "metadata": {},
     "output_type": "execute_result"
    }
   ],
   "source": [
    "(10000).bit_length()"
   ]
  },
  {
   "cell_type": "code",
   "execution_count": 13,
   "id": "1cc24c59",
   "metadata": {},
   "outputs": [
    {
     "name": "stdout",
     "output_type": "stream",
     "text": [
      "   0 ---     0b0 ---    0\n",
      "   1 ---     0b1 ---    1\n",
      "   2 ---    0b10 ---    2\n",
      "   3 ---    0b11 ---    2\n",
      "   4 ---   0b100 ---    3\n",
      "   5 ---   0b101 ---    3\n",
      "   6 ---   0b110 ---    3\n",
      "   7 ---   0b111 ---    3\n",
      "   8 ---  0b1000 ---    4\n",
      "   9 ---  0b1001 ---    4\n",
      "  10 ---  0b1010 ---    4\n"
     ]
    }
   ],
   "source": [
    "for ib in range(0,11):\n",
    "    print('{:4d} ---  {:>6} --- {:4d}'.format(ib, bin(ib), ib.bit_length()))"
   ]
  },
  {
   "cell_type": "markdown",
   "id": "2ec35725",
   "metadata": {},
   "source": [
    "I numeri e le strighe possono essere rappresentati tramite una serite di byte (8 bit). Ci sono due modi di ordinare i byte:\n",
    "- *big endian* in cui il byte vengono immagazzinati o trasmessi a partire dal più significativo\n",
    "- *little endian* in cui il byte vengono immagazzinati o trasmessi a partire dal meno significativo\n",
    "\n",
    "Il modo in cui vengono ordinati i byte dipende dal sistema operativo."
   ]
  },
  {
   "cell_type": "code",
   "execution_count": 14,
   "id": "70776029",
   "metadata": {},
   "outputs": [
    {
     "data": {
      "text/plain": [
       "b'\\x04\\x00'"
      ]
     },
     "execution_count": 14,
     "metadata": {},
     "output_type": "execute_result"
    }
   ],
   "source": [
    "(1024).to_bytes(2, byteorder='big')"
   ]
  },
  {
   "cell_type": "code",
   "execution_count": 15,
   "id": "e6f766d5",
   "metadata": {},
   "outputs": [
    {
     "data": {
      "text/plain": [
       "b'\\x00\\x04'"
      ]
     },
     "execution_count": 15,
     "metadata": {},
     "output_type": "execute_result"
    }
   ],
   "source": [
    "(1024).to_bytes(2, byteorder='little')"
   ]
  },
  {
   "cell_type": "code",
   "execution_count": 16,
   "id": "47989126",
   "metadata": {},
   "outputs": [
    {
     "data": {
      "text/plain": [
       "'little'"
      ]
     },
     "execution_count": 16,
     "metadata": {},
     "output_type": "execute_result"
    }
   ],
   "source": [
    "sys.byteorder"
   ]
  },
  {
   "cell_type": "code",
   "execution_count": 17,
   "id": "3c91bb69",
   "metadata": {},
   "outputs": [
    {
     "data": {
      "text/plain": [
       "b'\\x00\\x04'"
      ]
     },
     "execution_count": 17,
     "metadata": {},
     "output_type": "execute_result"
    }
   ],
   "source": [
    "(1024).to_bytes(2, byteorder=sys.byteorder)"
   ]
  },
  {
   "cell_type": "code",
   "execution_count": 18,
   "id": "c763e0d1",
   "metadata": {},
   "outputs": [
    {
     "name": "stdout",
     "output_type": "stream",
     "text": [
      "2 8 16\n"
     ]
    }
   ],
   "source": [
    "bb = 0b10\n",
    "oo = 0o10\n",
    "ee = 0x10\n",
    "print(bb, oo, ee)"
   ]
  },
  {
   "cell_type": "code",
   "execution_count": 19,
   "id": "d8467b39",
   "metadata": {},
   "outputs": [
    {
     "name": "stdout",
     "output_type": "stream",
     "text": [
      "b'\\x00\\x00\\x00\\x10'\n"
     ]
    }
   ],
   "source": [
    "print(ee.to_bytes(4, byteorder='big'))"
   ]
  },
  {
   "cell_type": "code",
   "execution_count": 20,
   "id": "b2396779",
   "metadata": {},
   "outputs": [
    {
     "data": {
      "text/plain": [
       "'0x1.8000000000000p+1'"
      ]
     },
     "execution_count": 20,
     "metadata": {},
     "output_type": "execute_result"
    }
   ],
   "source": [
    "float.hex(3.)"
   ]
  },
  {
   "cell_type": "code",
   "execution_count": 21,
   "id": "55e406df",
   "metadata": {},
   "outputs": [
    {
     "data": {
      "text/plain": [
       "'0x1.0000000000000p+4'"
      ]
     },
     "execution_count": 21,
     "metadata": {},
     "output_type": "execute_result"
    }
   ],
   "source": [
    "float.hex(16.0)"
   ]
  },
  {
   "cell_type": "code",
   "execution_count": 22,
   "id": "9e86fcb9",
   "metadata": {},
   "outputs": [
    {
     "data": {
      "text/plain": [
       "'0x1.74876e8000000p+37'"
      ]
     },
     "execution_count": 22,
     "metadata": {},
     "output_type": "execute_result"
    }
   ],
   "source": [
    "float.hex(2.0e11)"
   ]
  },
  {
   "cell_type": "code",
   "execution_count": 23,
   "id": "624199be",
   "metadata": {},
   "outputs": [
    {
     "name": "stdout",
     "output_type": "stream",
     "text": [
      "b'\\x04\\x00'\n",
      "b'\\x00\\x00\\x00\\x00\\x00\\x00\\x04\\x00'\n",
      "b'\\xff\\xff\\xff\\xff\\xff\\xff\\xfc\\x00'\n"
     ]
    }
   ],
   "source": [
    "print((1024).to_bytes(2,  byteorder='big'))\n",
    "print((1024).to_bytes(8,  byteorder='big'))\n",
    "print((-1024).to_bytes(8, byteorder='big', signed=True))"
   ]
  },
  {
   "cell_type": "code",
   "execution_count": 24,
   "id": "96f115df",
   "metadata": {},
   "outputs": [
    {
     "name": "stdout",
     "output_type": "stream",
     "text": [
      "16\n"
     ]
    }
   ],
   "source": [
    "print(int.from_bytes(b'\\x00\\x10', byteorder='big'))"
   ]
  },
  {
   "cell_type": "code",
   "execution_count": 25,
   "id": "b6e8b472",
   "metadata": {},
   "outputs": [
    {
     "name": "stdout",
     "output_type": "stream",
     "text": [
      "-1024\n",
      "64512\n"
     ]
    }
   ],
   "source": [
    "print(int.from_bytes(b'\\xfc\\x00', byteorder='big', signed=True))\n",
    "print(int.from_bytes(b'\\xfc\\x00', byteorder='big', signed=False))"
   ]
  },
  {
   "cell_type": "code",
   "execution_count": 26,
   "id": "807834b2",
   "metadata": {},
   "outputs": [
    {
     "name": "stdout",
     "output_type": "stream",
     "text": [
      "4113\n",
      "4113\n",
      "[16, 17]\n",
      "4113\n"
     ]
    }
   ],
   "source": [
    "print(int.from_bytes(b'\\x10\\x11',  byteorder='big', signed=True))\n",
    "print(int.from_bytes([0x10, 0x11], byteorder='big', signed=True))\n",
    "print([0x10, 0x11])\n",
    "print(int.from_bytes([16, 17], byteorder='big', signed=True))"
   ]
  },
  {
   "cell_type": "code",
   "execution_count": 27,
   "id": "7170f582",
   "metadata": {},
   "outputs": [
    {
     "name": "stdout",
     "output_type": "stream",
     "text": [
      "0 0 0\n",
      "1 1 1\n",
      "2 2 2\n",
      "3 3 3\n",
      "4 4 4\n",
      "5 5 5\n",
      "6 6 6\n",
      "7 7 7\n",
      "8 8 8\n",
      "9 9 9\n",
      "10 10 10\n",
      "11 11 11\n",
      "12 12 12\n",
      "13 13 13\n",
      "14 14 14\n",
      "15 15 15\n",
      "16 16 16\n",
      "17 17 17\n",
      "18 18 18\n",
      "19 19 19\n",
      "20 20 20\n",
      "21 21 21\n",
      "22 22 22\n",
      "23 23 23\n",
      "24 24 24\n",
      "25 25 25\n",
      "26 26 26\n",
      "27 27 27\n",
      "28 28 28\n",
      "29 29 29\n",
      "30 30 30\n",
      "31 31 31\n",
      "32 32 32\n",
      "33 33 33\n",
      "34 34 34\n",
      "35 35 35\n",
      "36 36 36\n",
      "37 37 37\n",
      "38 38 38\n",
      "39 39 39\n",
      "40 40 40\n",
      "41 41 41\n",
      "42 42 42\n",
      "43 43 43\n",
      "44 44 44\n",
      "45 45 45\n",
      "46 46 46\n",
      "47 47 47\n",
      "48 48 48\n",
      "49 49 49\n",
      "50 50 50\n",
      "51 51 51\n",
      "52 52 52\n",
      "53 53 53\n",
      "54 54 54\n",
      "55 55 55\n",
      "56 56 56\n",
      "57 57 57\n",
      "58 58 58\n",
      "59 59 59\n",
      "60 60 60\n",
      "61 61 61\n",
      "62 62 62\n",
      "63 63 63\n",
      "64 64 64\n",
      "65 65 65\n",
      "66 66 66\n",
      "67 67 67\n",
      "68 68 68\n",
      "69 69 69\n",
      "70 70 70\n",
      "71 71 71\n",
      "72 72 72\n",
      "73 73 73\n",
      "74 74 74\n",
      "75 75 75\n",
      "76 76 76\n",
      "77 77 77\n",
      "78 78 78\n",
      "79 79 79\n",
      "80 80 80\n",
      "81 81 81\n",
      "82 82 82\n",
      "83 83 83\n",
      "84 84 84\n",
      "85 85 85\n",
      "86 86 86\n",
      "87 87 87\n",
      "88 88 88\n",
      "89 89 89\n",
      "90 90 90\n",
      "91 91 91\n",
      "92 92 92\n",
      "93 93 93\n",
      "94 94 94\n",
      "95 95 95\n",
      "96 96 96\n",
      "97 97 97\n",
      "98 98 98\n",
      "99 99 99\n",
      "100 100 100\n",
      "101 101 101\n",
      "102 102 102\n",
      "103 103 103\n",
      "104 104 104\n",
      "105 105 105\n",
      "106 106 106\n",
      "107 107 107\n",
      "108 108 108\n",
      "109 109 109\n",
      "110 110 110\n",
      "111 111 111\n",
      "112 112 112\n",
      "113 113 113\n",
      "114 114 114\n",
      "115 115 115\n",
      "116 116 116\n",
      "117 117 117\n",
      "118 118 118\n",
      "119 119 119\n",
      "120 120 120\n",
      "121 121 121\n",
      "122 122 122\n",
      "123 123 123\n",
      "124 124 124\n",
      "125 125 125\n",
      "126 126 126\n",
      "127 127 127\n",
      "128 128 -128\n",
      "129 129 -127\n",
      "130 130 -126\n",
      "131 131 -125\n",
      "132 132 -124\n",
      "133 133 -123\n",
      "134 134 -122\n",
      "135 135 -121\n",
      "136 136 -120\n",
      "137 137 -119\n",
      "138 138 -118\n",
      "139 139 -117\n",
      "140 140 -116\n",
      "141 141 -115\n",
      "142 142 -114\n",
      "143 143 -113\n",
      "144 144 -112\n",
      "145 145 -111\n",
      "146 146 -110\n",
      "147 147 -109\n",
      "148 148 -108\n",
      "149 149 -107\n",
      "150 150 -106\n",
      "151 151 -105\n",
      "152 152 -104\n",
      "153 153 -103\n",
      "154 154 -102\n",
      "155 155 -101\n",
      "156 156 -100\n",
      "157 157 -99\n",
      "158 158 -98\n",
      "159 159 -97\n",
      "160 160 -96\n",
      "161 161 -95\n",
      "162 162 -94\n",
      "163 163 -93\n",
      "164 164 -92\n",
      "165 165 -91\n",
      "166 166 -90\n",
      "167 167 -89\n",
      "168 168 -88\n",
      "169 169 -87\n",
      "170 170 -86\n",
      "171 171 -85\n",
      "172 172 -84\n",
      "173 173 -83\n",
      "174 174 -82\n",
      "175 175 -81\n",
      "176 176 -80\n",
      "177 177 -79\n",
      "178 178 -78\n",
      "179 179 -77\n",
      "180 180 -76\n",
      "181 181 -75\n",
      "182 182 -74\n",
      "183 183 -73\n",
      "184 184 -72\n",
      "185 185 -71\n",
      "186 186 -70\n",
      "187 187 -69\n",
      "188 188 -68\n",
      "189 189 -67\n",
      "190 190 -66\n",
      "191 191 -65\n",
      "192 192 -64\n",
      "193 193 -63\n",
      "194 194 -62\n",
      "195 195 -61\n",
      "196 196 -60\n",
      "197 197 -59\n",
      "198 198 -58\n",
      "199 199 -57\n",
      "200 200 -56\n",
      "201 201 -55\n",
      "202 202 -54\n",
      "203 203 -53\n",
      "204 204 -52\n",
      "205 205 -51\n",
      "206 206 -50\n",
      "207 207 -49\n",
      "208 208 -48\n",
      "209 209 -47\n",
      "210 210 -46\n",
      "211 211 -45\n",
      "212 212 -44\n",
      "213 213 -43\n",
      "214 214 -42\n",
      "215 215 -41\n",
      "216 216 -40\n",
      "217 217 -39\n",
      "218 218 -38\n",
      "219 219 -37\n",
      "220 220 -36\n",
      "221 221 -35\n",
      "222 222 -34\n",
      "223 223 -33\n",
      "224 224 -32\n",
      "225 225 -31\n",
      "226 226 -30\n",
      "227 227 -29\n",
      "228 228 -28\n",
      "229 229 -27\n",
      "230 230 -26\n",
      "231 231 -25\n",
      "232 232 -24\n",
      "233 233 -23\n",
      "234 234 -22\n",
      "235 235 -21\n",
      "236 236 -20\n",
      "237 237 -19\n",
      "238 238 -18\n",
      "239 239 -17\n",
      "240 240 -16\n",
      "241 241 -15\n",
      "242 242 -14\n",
      "243 243 -13\n",
      "244 244 -12\n",
      "245 245 -11\n",
      "246 246 -10\n",
      "247 247 -9\n",
      "248 248 -8\n",
      "249 249 -7\n",
      "250 250 -6\n",
      "251 251 -5\n",
      "252 252 -4\n",
      "253 253 -3\n",
      "254 254 -2\n",
      "255 255 -1\n"
     ]
    }
   ],
   "source": [
    "for ib in range(256):\n",
    "    print(ib, \n",
    "          int.from_bytes([ib], byteorder='big', signed=False), \n",
    "          int.from_bytes([ib], byteorder='big', signed=True))"
   ]
  },
  {
   "cell_type": "code",
   "execution_count": 28,
   "id": "bbb77e06",
   "metadata": {},
   "outputs": [
    {
     "name": "stdout",
     "output_type": "stream",
     "text": [
      "255\n",
      "b'\\xff'\n"
     ]
    }
   ],
   "source": [
    "#Byte = 8 bit \n",
    "bB=0b11111111\n",
    "print(bB)\n",
    "print(bB.to_bytes(1, byteorder='big'))"
   ]
  },
  {
   "cell_type": "code",
   "execution_count": 29,
   "id": "c91d3c74",
   "metadata": {},
   "outputs": [
    {
     "name": "stdout",
     "output_type": "stream",
     "text": [
      "255\n",
      "255\n"
     ]
    }
   ],
   "source": [
    "xB=0xFF\n",
    "print(bB)\n",
    "print(xB)"
   ]
  },
  {
   "cell_type": "code",
   "execution_count": 30,
   "id": "c0595b5f",
   "metadata": {},
   "outputs": [
    {
     "name": "stdout",
     "output_type": "stream",
     "text": [
      "  0b11111111  255  b'\\x00\\xff'\n",
      " 0b100000000  256  b'\\x01\\x00'\n"
     ]
    }
   ],
   "source": [
    "bB1=0b11111111+1\n",
    "print('{:>12}  {:3d}  {:}'.format( bin(bB),  bB,  bB.to_bytes(2,  byteorder='big')))\n",
    "print('{:>12}  {:3d}  {:}'.format( bin(bB1), bB1, bB1.to_bytes(2, byteorder='big')))"
   ]
  },
  {
   "cell_type": "markdown",
   "id": "8dbbbc52",
   "metadata": {},
   "source": [
    "## Operazioni Bitwise\n",
    "\n",
    "In alcuni casi è utile o necessario manipolare o effettuare operazioni logiche direttamente considerado la rappresentazione binaria dei valori considerati (operazioni *bitwise*). \n",
    "\n",
    "L'utilizzo delle operazioni bitwise è particolarmente comune nel caso di gestione o scambio di dati di basso livello con sistemi elettronici.\n",
    "\n",
    "Le operazioni logiche bitwise operano individualmente con bit dello stesso livello di sugnificatività."
   ]
  },
  {
   "cell_type": "code",
   "execution_count": 31,
   "id": "7f81b5fd",
   "metadata": {},
   "outputs": [
    {
     "data": {
      "text/plain": [
       "'0b1010'"
      ]
     },
     "execution_count": 31,
     "metadata": {},
     "output_type": "execute_result"
    }
   ],
   "source": [
    "bin(10)"
   ]
  },
  {
   "cell_type": "code",
   "execution_count": 32,
   "id": "dbb0c242",
   "metadata": {},
   "outputs": [
    {
     "data": {
      "text/plain": [
       "45"
      ]
     },
     "execution_count": 32,
     "metadata": {},
     "output_type": "execute_result"
    }
   ],
   "source": [
    "nb = 0b101101\n",
    "nb"
   ]
  },
  {
   "cell_type": "code",
   "execution_count": 33,
   "id": "60564214",
   "metadata": {},
   "outputs": [
    {
     "data": {
      "text/plain": [
       "-88"
      ]
     },
     "execution_count": 33,
     "metadata": {},
     "output_type": "execute_result"
    }
   ],
   "source": [
    "int('-0b1011000', 2)"
   ]
  },
  {
   "cell_type": "code",
   "execution_count": 34,
   "id": "6f0b2a87",
   "metadata": {},
   "outputs": [
    {
     "name": "stdout",
     "output_type": "stream",
     "text": [
      "valori binari...\n",
      "a:  0b111101\n",
      "b:  0b10\n",
      "------------\n",
      "a: 111101\n",
      "b: 000010\n",
      "valori decimali ...\n",
      "a:  61\n",
      "b:  2\n",
      "bitwise OR and AND ...\n",
      "(a|b) : 111111\n",
      "(a&b) : 000000\n"
     ]
    }
   ],
   "source": [
    "a = 0b111101\n",
    "b = 0b000010\n",
    "\n",
    "# print binari\n",
    "print(\"valori binari...\")\n",
    "print( \"a: \",bin (a))\n",
    "print( \"b: \",bin (b))\n",
    "print('------------')\n",
    "print( \"a: {:06b}\".format(a))\n",
    "print( \"b: {:06b}\".format(b))\n",
    "\n",
    "# print decimali\n",
    "print(\"valori decimali ...\")\n",
    "print(\"a: \",a )\n",
    "print(\"b: \",b )\n",
    "      \n",
    "# bitwise OR and AND \n",
    "print('bitwise OR and AND ...')\n",
    "print (\"(a|b) : {:06b}\".format(a|b) )\n",
    "print (\"(a&b) : {:06b}\".format(a&b) )\n",
    "\n",
    "\n"
   ]
  },
  {
   "cell_type": "code",
   "execution_count": 35,
   "id": "7370d15a",
   "metadata": {},
   "outputs": [
    {
     "name": "stdout",
     "output_type": "stream",
     "text": [
      "valori binari...\n",
      "c  : 101101\n",
      "d  : 001010\n",
      "c|d: 101111\n",
      "c&d: 001000\n"
     ]
    }
   ],
   "source": [
    "c = 0b101101\n",
    "d = 0b001010\n",
    "\n",
    "# print binari\n",
    "print('valori binari...' )\n",
    "print('c  : {:06b}'.format(c))\n",
    "print('d  : {:06b}'.format(d))\n",
    "\n",
    "cd_or  = (c|d)\n",
    "cd_and = (c&d)\n",
    "# bitwise OR and AND \n",
    "#print('bitwise OR and AND ...')\n",
    "print('c|d: {:06b}'.format( cd_or ))\n",
    "print('c&d: {:06b}'.format( cd_and))\n"
   ]
  },
  {
   "cell_type": "code",
   "execution_count": 36,
   "id": "73348f4c",
   "metadata": {},
   "outputs": [
    {
     "name": "stdout",
     "output_type": "stream",
     "text": [
      "bb1   :      0b11001\n",
      "bb1<<2:    0b1100100\n",
      "bb1>>2:        0b110\n"
     ]
    }
   ],
   "source": [
    "bb1       = 0b0011001\n",
    "bs_plus2  = ( bb1 << 2 )\n",
    "bs_minus2 = ( bb1 >> 2 )\n",
    "print('bb1   : {:>12}'.format( bin(bb1)))\n",
    "print('bb1<<2: {:>12}'.format( bin(bs_plus2)))\n",
    "print('bb1>>2: {:>12}'.format( bin(bs_minus2)))"
   ]
  },
  {
   "cell_type": "code",
   "execution_count": 37,
   "id": "c6183403",
   "metadata": {},
   "outputs": [
    {
     "name": "stdout",
     "output_type": "stream",
     "text": [
      "xx1   :   0b11111111    0xff\n",
      "xx1<<2: 0b1111111100   0x3fc\n",
      "xx1>>2:     0b111111    0x3f\n"
     ]
    }
   ],
   "source": [
    "xx1       = 0x00FF\n",
    "xs_plus2  = ( xx1 << 2 )\n",
    "xs_minus2 = ( xx1 >> 2 )\n",
    "print('xx1   : {:>12}  {:>6}'.format( bin(xx1),       hex(xx1)))\n",
    "print('xx1<<2: {:>12}  {:>6}'.format( bin(xs_plus2),  hex(xs_plus2)))\n",
    "print('xx1>>2: {:>12}  {:>6}'.format( bin(xs_minus2), hex(xs_minus2)))"
   ]
  },
  {
   "cell_type": "code",
   "execution_count": 38,
   "id": "d57e6890",
   "metadata": {},
   "outputs": [
    {
     "name": "stdout",
     "output_type": "stream",
     "text": [
      "xx1   :           0b11111111    0xff\n",
      "xx1<<4:       0b111111110000   0xff0\n",
      "xx1<<8:   0b1111111100000000  0xff00\n",
      "xx1>>4:               0b1111     0xf\n",
      "xx1>>8:                  0b0     0x0\n"
     ]
    }
   ],
   "source": [
    "xx1       = 0x00FF\n",
    "xs_plus4  = ( xx1 << 4 )\n",
    "xs_minus4 = ( xx1 >> 4 )\n",
    "xs_plus8  = ( xx1 << 8 )\n",
    "xs_minus8 = ( xx1 >> 8 )\n",
    "print('xx1   : {:>20}  {:>6}'.format( bin(xx1),       hex(xx1)))\n",
    "print('xx1<<4: {:>20}  {:>6}'.format( bin(xs_plus4),  hex(xs_plus4)))\n",
    "print('xx1<<8: {:>20}  {:>6}'.format( bin(xs_plus8),  hex(xs_plus8)))\n",
    "print('xx1>>4: {:>20}  {:>6}'.format( bin(xs_minus4), hex(xs_minus4)))\n",
    "print('xx1>>8: {:>20}  {:>6}'.format( bin(xs_minus8), hex(xs_minus8)))"
   ]
  },
  {
   "cell_type": "code",
   "execution_count": 39,
   "id": "f56d1370",
   "metadata": {},
   "outputs": [
    {
     "name": "stdout",
     "output_type": "stream",
     "text": [
      "bbo:    0b1100110\n",
      "bbc:   -0b1100111\n"
     ]
    }
   ],
   "source": [
    "bbo = 0b1100110\n",
    "bbc = ~bbo\n",
    "print('bbo: {:>12}'.format( bin(bbo)))\n",
    "print('bbc: {:>12}'.format( bin(bbc)))"
   ]
  },
  {
   "cell_type": "code",
   "execution_count": 40,
   "id": "eb67453c",
   "metadata": {},
   "outputs": [
    {
     "data": {
      "text/plain": [
       "-2"
      ]
     },
     "execution_count": 40,
     "metadata": {},
     "output_type": "execute_result"
    }
   ],
   "source": [
    "~0b1"
   ]
  },
  {
   "cell_type": "markdown",
   "id": "cda03c38",
   "metadata": {},
   "source": [
    "## Errori di  Rappresentazione \n",
    "\n",
    "Il numero di finito di byte utilizzato per la rappresentazione numerica conduce a possibili differenze fra il valore teorico e quell effettivamente immagazzinato dal computer (errore di rappresentazione)."
   ]
  },
  {
   "cell_type": "code",
   "execution_count": 41,
   "id": "391078c7",
   "metadata": {},
   "outputs": [
    {
     "data": {
      "text/plain": [
       "sys.float_info(max=1.7976931348623157e+308, max_exp=1024, max_10_exp=308, min=2.2250738585072014e-308, min_exp=-1021, min_10_exp=-307, dig=15, mant_dig=53, epsilon=2.220446049250313e-16, radix=2, rounds=1)"
      ]
     },
     "execution_count": 41,
     "metadata": {},
     "output_type": "execute_result"
    }
   ],
   "source": [
    "sys.float_info"
   ]
  },
  {
   "cell_type": "code",
   "execution_count": 42,
   "id": "3401eca1",
   "metadata": {},
   "outputs": [],
   "source": [
    "mypi = math.pi"
   ]
  },
  {
   "cell_type": "code",
   "execution_count": 43,
   "id": "05c399dc",
   "metadata": {},
   "outputs": [
    {
     "name": "stdout",
     "output_type": "stream",
     "text": [
      "-1.0000000000065512e-05\n"
     ]
    }
   ],
   "source": [
    "mypi = mypi + 1.e-5\n",
    "print(math.pi-mypi)"
   ]
  },
  {
   "cell_type": "code",
   "execution_count": 44,
   "id": "a40162ad",
   "metadata": {},
   "outputs": [
    {
     "name": "stdout",
     "output_type": "stream",
     "text": [
      "   0.1      0.10000000000000009   1.0000000000000009      \n",
      "  0.01     0.009999999999999787   0.9999999999999787      \n",
      " 0.001    0.0009999999999998899   0.9999999999998899      \n",
      "0.0001   0.00010000000000021103   1.0000000000021103      \n",
      " 1e-05   1.0000000000065512e-05   1.0000000000065512      \n",
      " 1e-06    1.000000000139778e-06   1.000000000139778       \n",
      " 1e-07    9.999999983634211e-08   0.9999999983634211      \n",
      " 1e-08     9.99999993922529e-09   0.999999993922529       \n",
      " 1e-09    1.000000082740371e-09   1.000000082740371       \n",
      " 1e-10    1.000000082740371e-10   1.000000082740371       \n",
      " 1e-11    1.000000082740371e-11   1.000000082740371       \n",
      " 1e-12    1.000088900582341e-12   1.000088900582341       \n",
      " 1e-13    9.992007221626409e-14   0.9992007221626409      \n",
      " 1e-14    1.021405182655144e-14   1.021405182655144       \n",
      " 1e-15    8.881784197001252e-16   0.8881784197001251      \n",
      " 1e-16                      0.0   0.0                     \n",
      " 1e-17                      0.0   0.0                     \n",
      " 1e-18                      0.0   0.0                     \n",
      " 1e-19                      0.0   0.0                     \n",
      " 1e-20                      0.0   0.0                     \n"
     ]
    }
   ],
   "source": [
    "for de in np.logspace(-1,-20,20):\n",
    "    print('{:6} {:>24}   {:<24}'.format(de, (math.pi+de)-math.pi, ((math.pi+de)-math.pi)/de) )"
   ]
  },
  {
   "cell_type": "code",
   "execution_count": 45,
   "id": "d3beef24",
   "metadata": {},
   "outputs": [
    {
     "name": "stdout",
     "output_type": "stream",
     "text": [
      "   0.1      0.31415926535897976   1.1                     \n",
      "  0.01     0.031415926535897754   1.01                    \n",
      " 0.001    0.0031415926535895977   1.001                   \n",
      "0.0001    0.0003141592653590486   1.0001                  \n",
      " 1e-05    3.141592653621572e-05   1.00001                 \n",
      " 1e-06    3.141592653133074e-06   1.000001                \n",
      " 1e-07    3.141592657129877e-07   1.0000001               \n",
      " 1e-08    3.141592630484524e-08   1.00000001              \n",
      " 1e-09   3.1415927637112873e-09   1.000000001             \n",
      " 1e-10    3.141593651889707e-10   1.0000000001            \n",
      " 1e-11    3.141575888321313e-11   1.00000000001           \n",
      " 1e-12    3.141931159689193e-12   1.000000000001          \n",
      " 1e-13   3.1397107136399427e-13   1.0000000000001         \n",
      " 1e-14   3.1530333899354446e-14   1.00000000000001        \n",
      " 1e-15    3.552713678800501e-15   1.000000000000001       \n",
      " 1e-16                      0.0   1.0                     \n",
      " 1e-17                      0.0   1.0                     \n",
      " 1e-18                      0.0   1.0                     \n",
      " 1e-19                      0.0   1.0                     \n",
      " 1e-20                      0.0   1.0                     \n"
     ]
    }
   ],
   "source": [
    "for de in np.logspace(-1,-20,20):\n",
    "    print('{:6} {:>24}   {:<24}'.format(de, math.pi*(1+de)-math.pi, (math.pi*(1+de)/math.pi)) )"
   ]
  },
  {
   "cell_type": "code",
   "execution_count": 46,
   "id": "2109bc42",
   "metadata": {},
   "outputs": [
    {
     "data": {
      "text/plain": [
       "'0.010'"
      ]
     },
     "execution_count": 46,
     "metadata": {},
     "output_type": "execute_result"
    }
   ],
   "source": [
    "format(0.01, '.3f')"
   ]
  },
  {
   "cell_type": "code",
   "execution_count": 47,
   "id": "e8b37900",
   "metadata": {},
   "outputs": [
    {
     "data": {
      "text/plain": [
       "'0.0100000000'"
      ]
     },
     "execution_count": 47,
     "metadata": {},
     "output_type": "execute_result"
    }
   ],
   "source": [
    "format(0.01, '.10f')"
   ]
  },
  {
   "cell_type": "code",
   "execution_count": 48,
   "id": "217c73d0",
   "metadata": {},
   "outputs": [
    {
     "data": {
      "text/plain": [
       "'0.010000000000000000208166817117'"
      ]
     },
     "execution_count": 48,
     "metadata": {},
     "output_type": "execute_result"
    }
   ],
   "source": [
    "format(0.01, '.30f')"
   ]
  },
  {
   "cell_type": "code",
   "execution_count": 49,
   "id": "942a1914",
   "metadata": {},
   "outputs": [
    {
     "data": {
      "text/plain": [
       "'0.01000000000000000020816681711721685132943093776703'"
      ]
     },
     "execution_count": 49,
     "metadata": {},
     "output_type": "execute_result"
    }
   ],
   "source": [
    "format(0.01, '.50f')"
   ]
  },
  {
   "cell_type": "code",
   "execution_count": 50,
   "id": "4bd6b202",
   "metadata": {},
   "outputs": [
    {
     "data": {
      "text/plain": [
       "'0.01000000000000000020816681711721685132943093776702880859375000000000000000000000'"
      ]
     },
     "execution_count": 50,
     "metadata": {},
     "output_type": "execute_result"
    }
   ],
   "source": [
    "format(0.01, '.80f')"
   ]
  },
  {
   "cell_type": "code",
   "execution_count": 51,
   "id": "a6009a3b",
   "metadata": {},
   "outputs": [
    {
     "data": {
      "text/plain": [
       "'0.00000099999999999999995474811182588625868561393872369080781936645507812500000000'"
      ]
     },
     "execution_count": 51,
     "metadata": {},
     "output_type": "execute_result"
    }
   ],
   "source": [
    "aa = 1e-6\n",
    "format(aa, '.80f')"
   ]
  },
  {
   "cell_type": "code",
   "execution_count": 52,
   "id": "d989edba",
   "metadata": {},
   "outputs": [
    {
     "data": {
      "text/plain": [
       "'0.00100000000000000002081668171172168513294309377670288085937500000000000000000000'"
      ]
     },
     "execution_count": 52,
     "metadata": {},
     "output_type": "execute_result"
    }
   ],
   "source": [
    "bb = 1e-3\n",
    "format(bb, '.80f')"
   ]
  },
  {
   "cell_type": "code",
   "execution_count": 53,
   "id": "8a1a06d1",
   "metadata": {},
   "outputs": [
    {
     "data": {
      "text/plain": [
       "'0.10000000000000000555111512312578270211815834045410156250000000000000000000000000'"
      ]
     },
     "execution_count": 53,
     "metadata": {},
     "output_type": "execute_result"
    }
   ],
   "source": [
    "format(bb*100, '.80f')"
   ]
  },
  {
   "cell_type": "markdown",
   "id": "83baa502",
   "metadata": {},
   "source": [
    "Il fatto che i valori numerici sono immagzzinati tramite valori binari conduce al fatto che alcuni valori decimali non vengano rappresentati esattamente. \n",
    "\n",
    "Questo comportamenti è analogo a quello che si ha nella rappresentazione decimale di alcuni numeri razionali come $\\frac{1}{3}$.\n"
   ]
  },
  {
   "cell_type": "code",
   "execution_count": 54,
   "id": "805916de",
   "metadata": {},
   "outputs": [
    {
     "name": "stdout",
     "output_type": "stream",
     "text": [
      "0.125\n"
     ]
    }
   ],
   "source": [
    "# 0.125\n",
    "vd1 = 1/10 + 2/100 + 5/1000\n",
    "print(vd1)"
   ]
  },
  {
   "cell_type": "code",
   "execution_count": 55,
   "id": "02be13f0",
   "metadata": {},
   "outputs": [
    {
     "name": "stdout",
     "output_type": "stream",
     "text": [
      "0.125\n"
     ]
    }
   ],
   "source": [
    "# Binario 0.001\n",
    "vb1 = 0/2 + 0/4 + 1/8 \n",
    "print(vb1)"
   ]
  },
  {
   "cell_type": "code",
   "execution_count": 56,
   "id": "d02d3b41",
   "metadata": {},
   "outputs": [
    {
     "data": {
      "text/plain": [
       "'0.12500000000000000000000000000000000000000000000000'"
      ]
     },
     "execution_count": 56,
     "metadata": {},
     "output_type": "execute_result"
    }
   ],
   "source": [
    "format(vb1, '.50f')"
   ]
  },
  {
   "cell_type": "code",
   "execution_count": 57,
   "id": "63780327",
   "metadata": {},
   "outputs": [
    {
     "data": {
      "text/plain": [
       "0.3333333333333333"
      ]
     },
     "execution_count": 57,
     "metadata": {},
     "output_type": "execute_result"
    }
   ],
   "source": [
    "1/3"
   ]
  },
  {
   "cell_type": "code",
   "execution_count": 58,
   "id": "c190f6ce",
   "metadata": {},
   "outputs": [
    {
     "data": {
      "text/plain": [
       "0.30000000000000004"
      ]
     },
     "execution_count": 58,
     "metadata": {},
     "output_type": "execute_result"
    }
   ],
   "source": [
    "0.1+0.2"
   ]
  },
  {
   "cell_type": "code",
   "execution_count": 59,
   "id": "e816e971",
   "metadata": {},
   "outputs": [
    {
     "data": {
      "text/plain": [
       "0.5"
      ]
     },
     "execution_count": 59,
     "metadata": {},
     "output_type": "execute_result"
    }
   ],
   "source": [
    "1/2"
   ]
  },
  {
   "cell_type": "code",
   "execution_count": 60,
   "id": "0cd7ee14",
   "metadata": {},
   "outputs": [
    {
     "data": {
      "text/plain": [
       "0.25"
      ]
     },
     "execution_count": 60,
     "metadata": {},
     "output_type": "execute_result"
    }
   ],
   "source": [
    "1/4"
   ]
  },
  {
   "cell_type": "code",
   "execution_count": 61,
   "id": "d22453ed",
   "metadata": {},
   "outputs": [
    {
     "data": {
      "text/plain": [
       "0.125"
      ]
     },
     "execution_count": 61,
     "metadata": {},
     "output_type": "execute_result"
    }
   ],
   "source": [
    "1/8"
   ]
  },
  {
   "cell_type": "code",
   "execution_count": 62,
   "id": "65545535",
   "metadata": {},
   "outputs": [
    {
     "data": {
      "text/plain": [
       "0.0625"
      ]
     },
     "execution_count": 62,
     "metadata": {},
     "output_type": "execute_result"
    }
   ],
   "source": [
    "1/16"
   ]
  },
  {
   "cell_type": "code",
   "execution_count": 63,
   "id": "aae6fddd",
   "metadata": {},
   "outputs": [
    {
     "data": {
      "text/plain": [
       "0.03125"
      ]
     },
     "execution_count": 63,
     "metadata": {},
     "output_type": "execute_result"
    }
   ],
   "source": [
    "1/32\n"
   ]
  },
  {
   "cell_type": "code",
   "execution_count": 64,
   "id": "70ecfd15",
   "metadata": {},
   "outputs": [
    {
     "data": {
      "text/plain": [
       "0.09375"
      ]
     },
     "execution_count": 64,
     "metadata": {},
     "output_type": "execute_result"
    }
   ],
   "source": [
    "1/16+1/32"
   ]
  },
  {
   "cell_type": "code",
   "execution_count": 65,
   "id": "7d5874c5",
   "metadata": {},
   "outputs": [
    {
     "data": {
      "text/plain": [
       "0.109375"
      ]
     },
     "execution_count": 65,
     "metadata": {},
     "output_type": "execute_result"
    }
   ],
   "source": [
    "1/16+1/32+1/64"
   ]
  },
  {
   "cell_type": "code",
   "execution_count": 66,
   "id": "337fbca1",
   "metadata": {},
   "outputs": [
    {
     "data": {
      "text/plain": [
       "0.0997314453125"
      ]
     },
     "execution_count": 66,
     "metadata": {},
     "output_type": "execute_result"
    }
   ],
   "source": [
    "1/16+1/32+0/64+0/128+1/256+1/512+0/1024+0/2048+1/8192"
   ]
  },
  {
   "cell_type": "code",
   "execution_count": 67,
   "id": "f5d4591f",
   "metadata": {},
   "outputs": [
    {
     "data": {
      "text/plain": [
       "'0.09973144531250000000000000000000000000000000000000'"
      ]
     },
     "execution_count": 67,
     "metadata": {},
     "output_type": "execute_result"
    }
   ],
   "source": [
    "vs = 1/16+1/32+0/64+0/128+1/256+1/512+0/1024+0/2048+1/8192\n",
    "format(vs, '.50f')"
   ]
  },
  {
   "cell_type": "code",
   "execution_count": 68,
   "id": "fa7e8e51",
   "metadata": {},
   "outputs": [],
   "source": [
    "bits = np.full(20, 0)\n",
    "bits[3]  = 0\n",
    "bits[4]  = 1\n",
    "bits[5]  = 1\n",
    "bits[6]  = 0\n",
    "bits[7]  = 0\n",
    "bits[8]  = 1\n",
    "bits[9]  = 1\n",
    "bits[10] = 0\n",
    "bits[11] = 0\n",
    "bits[12] = 1\n",
    "bits[13] = 1\n",
    "bits[14] = 0\n",
    "bits[15] = 0\n",
    "bits[16] = 1\n",
    "bits[17] = 1\n",
    "bits[18] = 0\n",
    "bits[19] = 0"
   ]
  },
  {
   "cell_type": "code",
   "execution_count": 69,
   "id": "8d29ee91",
   "metadata": {},
   "outputs": [
    {
     "data": {
      "text/plain": [
       "array([0, 0, 0, 0, 1, 1, 0, 0, 1, 1, 0, 0, 1, 1, 0, 0, 1, 1, 0, 0])"
      ]
     },
     "execution_count": 69,
     "metadata": {},
     "output_type": "execute_result"
    }
   ],
   "source": [
    "bits"
   ]
  },
  {
   "cell_type": "code",
   "execution_count": 70,
   "id": "4ef0678d",
   "metadata": {},
   "outputs": [
    {
     "name": "stdout",
     "output_type": "stream",
     "text": [
      " 0 0        1   0.0000000000   0.0000000000\n",
      " 1 0        2   0.0000000000   0.0000000000\n",
      " 2 0        4   0.0000000000   0.0000000000\n",
      " 3 0        8   0.0000000000   0.0000000000\n",
      " 4 1       16   0.0625000000   0.6250000000\n",
      " 5 1       32   0.0937500000   0.9375000000\n",
      " 6 0       64   0.0937500000   0.9375000000\n",
      " 7 0      128   0.0937500000   0.9375000000\n",
      " 8 1      256   0.0976562500   0.9765625000\n",
      " 9 1      512   0.0996093750   0.9960937500\n",
      "10 0     1024   0.0996093750   0.9960937500\n",
      "11 0     2048   0.0996093750   0.9960937500\n",
      "12 1     4096   0.0998535156   0.9985351562\n",
      "13 1     8192   0.0999755859   0.9997558594\n",
      "14 0    16384   0.0999755859   0.9997558594\n",
      "15 0    32768   0.0999755859   0.9997558594\n",
      "16 1    65536   0.0999908447   0.9999084473\n",
      "17 1   131072   0.0999984741   0.9999847412\n",
      "18 0   262144   0.0999984741   0.9999847412\n",
      "19 0   524288   0.0999984741   0.9999847412\n"
     ]
    }
   ],
   "source": [
    "vv = 0 \n",
    "for ib in range(len(bits)):\n",
    "    vv = vv + bits[ib]/2**ib\n",
    "    print('{:2d} {:} {:8d}   {:1.10f}   {:1.10f}'.format(ib, bits[ib], 2**ib, vv,  vv/0.1))"
   ]
  },
  {
   "cell_type": "code",
   "execution_count": 71,
   "id": "43adcb11",
   "metadata": {},
   "outputs": [
    {
     "data": {
      "text/plain": [
       "True"
      ]
     },
     "execution_count": 71,
     "metadata": {},
     "output_type": "execute_result"
    }
   ],
   "source": [
    "sum01 = 0.1 + 0.1 + 0.1\n",
    "sum01 == 0.1 + 0.1 + 0.1"
   ]
  },
  {
   "cell_type": "code",
   "execution_count": 72,
   "id": "a086b62c",
   "metadata": {},
   "outputs": [
    {
     "data": {
      "text/plain": [
       "False"
      ]
     },
     "execution_count": 72,
     "metadata": {},
     "output_type": "execute_result"
    }
   ],
   "source": [
    "sum01 == 0.3"
   ]
  },
  {
   "cell_type": "code",
   "execution_count": 73,
   "id": "d434861e",
   "metadata": {},
   "outputs": [
    {
     "data": {
      "text/plain": [
       "True"
      ]
     },
     "execution_count": 73,
     "metadata": {},
     "output_type": "execute_result"
    }
   ],
   "source": [
    "round(sum01,10) == round(0.3,10)"
   ]
  },
  {
   "cell_type": "code",
   "execution_count": 74,
   "id": "cc7ac5b5",
   "metadata": {},
   "outputs": [
    {
     "data": {
      "text/plain": [
       "False"
      ]
     },
     "execution_count": 74,
     "metadata": {},
     "output_type": "execute_result"
    }
   ],
   "source": [
    "round(sum01,50) == round(0.3,50)"
   ]
  },
  {
   "cell_type": "code",
   "execution_count": 75,
   "id": "9e1389e4",
   "metadata": {},
   "outputs": [
    {
     "data": {
      "text/plain": [
       "0.30000000000000004"
      ]
     },
     "execution_count": 75,
     "metadata": {},
     "output_type": "execute_result"
    }
   ],
   "source": [
    "sum01"
   ]
  },
  {
   "cell_type": "code",
   "execution_count": 76,
   "id": "f911482c",
   "metadata": {},
   "outputs": [
    {
     "data": {
      "text/plain": [
       "0.3"
      ]
     },
     "execution_count": 76,
     "metadata": {},
     "output_type": "execute_result"
    }
   ],
   "source": [
    "round(sum01,10)"
   ]
  },
  {
   "cell_type": "code",
   "execution_count": 77,
   "id": "c2cf996c",
   "metadata": {},
   "outputs": [
    {
     "data": {
      "text/plain": [
       "0.30000000000000004"
      ]
     },
     "execution_count": 77,
     "metadata": {},
     "output_type": "execute_result"
    }
   ],
   "source": [
    "round(sum01,50)"
   ]
  },
  {
   "cell_type": "markdown",
   "id": "2e34028c",
   "metadata": {},
   "source": [
    "Rapporto fra interi "
   ]
  },
  {
   "cell_type": "code",
   "execution_count": 78,
   "id": "99bb7191",
   "metadata": {},
   "outputs": [
    {
     "data": {
      "text/plain": [
       "0.125"
      ]
     },
     "execution_count": 78,
     "metadata": {},
     "output_type": "execute_result"
    }
   ],
   "source": [
    "1/8"
   ]
  },
  {
   "cell_type": "code",
   "execution_count": 79,
   "id": "cb47c4ca",
   "metadata": {},
   "outputs": [
    {
     "data": {
      "text/plain": [
       "(1, 8)"
      ]
     },
     "execution_count": 79,
     "metadata": {},
     "output_type": "execute_result"
    }
   ],
   "source": [
    "(0.125).as_integer_ratio()"
   ]
  },
  {
   "cell_type": "code",
   "execution_count": 80,
   "id": "6a42d47b",
   "metadata": {},
   "outputs": [
    {
     "data": {
      "text/plain": [
       "(1, 8)"
      ]
     },
     "execution_count": 80,
     "metadata": {},
     "output_type": "execute_result"
    }
   ],
   "source": [
    "(1/8).as_integer_ratio()"
   ]
  },
  {
   "cell_type": "code",
   "execution_count": 81,
   "id": "2a6b19ee",
   "metadata": {},
   "outputs": [
    {
     "data": {
      "text/plain": [
       "0.1"
      ]
     },
     "execution_count": 81,
     "metadata": {},
     "output_type": "execute_result"
    }
   ],
   "source": [
    "1/10"
   ]
  },
  {
   "cell_type": "code",
   "execution_count": 82,
   "id": "7651add9",
   "metadata": {},
   "outputs": [
    {
     "data": {
      "text/plain": [
       "(3602879701896397, 36028797018963968)"
      ]
     },
     "execution_count": 82,
     "metadata": {},
     "output_type": "execute_result"
    }
   ],
   "source": [
    "(0.1).as_integer_ratio()"
   ]
  },
  {
   "cell_type": "code",
   "execution_count": 83,
   "id": "01a9f4ac",
   "metadata": {},
   "outputs": [
    {
     "data": {
      "text/plain": [
       "(3602879701896397, 36028797018963968)"
      ]
     },
     "execution_count": 83,
     "metadata": {},
     "output_type": "execute_result"
    }
   ],
   "source": [
    "(1/10).as_integer_ratio()"
   ]
  },
  {
   "cell_type": "code",
   "execution_count": 84,
   "id": "32228b43",
   "metadata": {},
   "outputs": [
    {
     "data": {
      "text/plain": [
       "'0.10000000000000000555111512312578270211815834045410'"
      ]
     },
     "execution_count": 84,
     "metadata": {},
     "output_type": "execute_result"
    }
   ],
   "source": [
    "format(0.1,'.50f')"
   ]
  },
  {
   "cell_type": "code",
   "execution_count": 85,
   "id": "4af897ae",
   "metadata": {},
   "outputs": [
    {
     "data": {
      "text/plain": [
       "True"
      ]
     },
     "execution_count": 85,
     "metadata": {},
     "output_type": "execute_result"
    }
   ],
   "source": [
    "0.1 == 3602879701896397 / 36028797018963968"
   ]
  }
 ],
 "metadata": {
  "kernelspec": {
   "display_name": "Python 3 (ipykernel)",
   "language": "python",
   "name": "python3"
  },
  "language_info": {
   "codemirror_mode": {
    "name": "ipython",
    "version": 3
   },
   "file_extension": ".py",
   "mimetype": "text/x-python",
   "name": "python",
   "nbconvert_exporter": "python",
   "pygments_lexer": "ipython3",
   "version": "3.8.10"
  }
 },
 "nbformat": 4,
 "nbformat_minor": 5
}
