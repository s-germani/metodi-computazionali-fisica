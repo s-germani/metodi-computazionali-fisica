{
 "cells": [
  {
   "cell_type": "markdown",
   "id": "330c2e78",
   "metadata": {},
   "source": [
    "# Classi, Oggetti e Moduli Personalizzati"
   ]
  },
  {
   "cell_type": "code",
   "execution_count": 1,
   "id": "d1d3dce2",
   "metadata": {},
   "outputs": [],
   "source": [
    "import sys,os"
   ]
  },
  {
   "cell_type": "markdown",
   "id": "5f77a2d9",
   "metadata": {},
   "source": [
    "## Moduli"
   ]
  },
  {
   "cell_type": "markdown",
   "id": "974e0662",
   "metadata": {},
   "source": [
    "Un *modulo* in python è un file contenente funzioni e definizioni.\n",
    "\n",
    "Se il file si chiama `mymodule.py` potrò importare il modulo `mymodule` ed utilizzare il suo contenuto."
   ]
  },
  {
   "cell_type": "markdown",
   "id": "ffabac2d",
   "metadata": {},
   "source": [
    "Partiamo dall'esempio di un file chiamto `caduta.py`:\n",
    "\n",
    "```\n",
    "g = 9.81\n",
    "\n",
    "def v(t):\n",
    "    return g*t\n",
    "    \n",
    "def h(h0, t):\n",
    "    return h0 -0.5 *g*t**2\n",
    "\n",
    "```"
   ]
  },
  {
   "cell_type": "code",
   "execution_count": 3,
   "id": "63d01629",
   "metadata": {},
   "outputs": [],
   "source": [
    "# Aggiungo la cartella del modul oal path python \n",
    "# in alternativa si può settare la variabile ambientale da terminale\n",
    "#   export PYTHONTAH=$PYTHONPATH:/percorso/modulo\n",
    "sys.path.append('../accessori/L09')"
   ]
  },
  {
   "cell_type": "code",
   "execution_count": 4,
   "id": "4d86109b",
   "metadata": {},
   "outputs": [
    {
     "data": {
      "text/plain": [
       "['/home/sg/Documents/Didattica/MetodiComputazionali/metodi-computazionali-fisica/notebooks',\n",
       " '/usr/lib/python38.zip',\n",
       " '/usr/lib/python3.8',\n",
       " '/usr/lib/python3.8/lib-dynload',\n",
       " '',\n",
       " '/home/sg/.local/lib/python3.8/site-packages',\n",
       " '/usr/local/lib/python3.8/dist-packages',\n",
       " '/usr/lib/python3/dist-packages',\n",
       " '../accessori/L09']"
      ]
     },
     "execution_count": 4,
     "metadata": {},
     "output_type": "execute_result"
    }
   ],
   "source": [
    "sys.path"
   ]
  },
  {
   "cell_type": "code",
   "execution_count": 5,
   "id": "b3889889",
   "metadata": {},
   "outputs": [],
   "source": [
    "import caduta"
   ]
  },
  {
   "cell_type": "code",
   "execution_count": 6,
   "id": "b82a4c91",
   "metadata": {},
   "outputs": [
    {
     "data": {
      "text/plain": [
       "9.81"
      ]
     },
     "execution_count": 6,
     "metadata": {},
     "output_type": "execute_result"
    }
   ],
   "source": [
    "caduta.g"
   ]
  },
  {
   "cell_type": "code",
   "execution_count": 7,
   "id": "a7f5f363",
   "metadata": {},
   "outputs": [
    {
     "data": {
      "text/plain": [
       "68.67"
      ]
     },
     "execution_count": 7,
     "metadata": {},
     "output_type": "execute_result"
    }
   ],
   "source": [
    "caduta.v(7)"
   ]
  },
  {
   "cell_type": "markdown",
   "id": "6adb6f62",
   "metadata": {},
   "source": [
    "Il file contente il mdulo può essere anche eseguito direttamente, in questo caso è necessario aggiungere il controllo:\n",
    "\n",
    "`if __name__ == \"__main__\":`\n",
    "\n",
    "Di seguito la versione aggiornata del contenuto del file `caduta.py`:\n",
    "\n",
    "\n",
    "```\n",
    "import sys\n",
    "\n",
    "g = 9.81\n",
    "\n",
    "def v(t):\n",
    "    \"\"\"\n",
    "    Funzione che restituisce la velocità al tempo t\n",
    "\n",
    "    return g*t\n",
    "    \"\"\"\n",
    "    return g*t\n",
    "\n",
    "def s(t):\n",
    "    \"\"\"\n",
    "    Funzione che restituisce lo spazio percorso al tempo t\n",
    "\n",
    "    return 0.5 *g*t^2\n",
    "    \"\"\"\n",
    "\n",
    "    return 0.5 *g*t**2\n",
    "\n",
    "def h(h0, t):\n",
    "    \"\"\"\n",
    "    Funzione che restituisce la quota al tempo t con quota di partenza h0\n",
    "    \n",
    "    return h0 -0.5 *g*t^2\n",
    "    \"\"\"\n",
    "\n",
    "    return h0 -0.5 *g*t**2\n",
    "\n",
    "\n",
    "if __name__ == \"__main__\":\n",
    "\n",
    "    t = float(sys.argv[1])\n",
    "    print('v({:}) = {:}'.format(t, v(t)))\n",
    "    print('s({:}) = {:}'.format(t, s(t)))\n",
    "```"
   ]
  },
  {
   "cell_type": "code",
   "execution_count": 8,
   "id": "0fa3a7a4",
   "metadata": {},
   "outputs": [
    {
     "name": "stdout",
     "output_type": "stream",
     "text": [
      "bin\n",
      "games\n",
      "include\n",
      "lib\n",
      "lib32\n",
      "lib64\n",
      "libexec\n",
      "libx32\n",
      "local\n",
      "sbin\n",
      "share\n",
      "src\n"
     ]
    }
   ],
   "source": [
    "# os.system permette di eseguire comandi di systema\n",
    "# contenuto cartella /usr\n",
    "os.system('ls /usr');"
   ]
  },
  {
   "cell_type": "code",
   "execution_count": 9,
   "id": "4de739e9",
   "metadata": {},
   "outputs": [
    {
     "name": "stdout",
     "output_type": "stream",
     "text": [
      "v(2.0) = 19.62\n",
      "s(2.0) = 19.62\n"
     ]
    }
   ],
   "source": [
    "# Eseguo il comando shell da python\n",
    "cmd = 'python3 ../accessori/L09/caduta.py 2'\n",
    "err = os.system(cmd)"
   ]
  },
  {
   "cell_type": "code",
   "execution_count": 10,
   "id": "4b1b22bb",
   "metadata": {},
   "outputs": [
    {
     "name": "stdout",
     "output_type": "stream",
     "text": [
      "Help on module caduta:\n",
      "\n",
      "NAME\n",
      "    caduta\n",
      "\n",
      "FUNCTIONS\n",
      "    h(h0, t)\n",
      "        Funzione che restituisce la quota al tempo t con quota di partenza h0\n",
      "        \n",
      "        return h0 -0.5 *g*t^2\n",
      "    \n",
      "    s(t)\n",
      "        Funzione che restituisce lo spazio percorso al tempo t\n",
      "        \n",
      "        return 0.5 *g*t^2\n",
      "    \n",
      "    v(t)\n",
      "        Funzione che restituisce la velocità al tempo t\n",
      "        \n",
      "        return g*t\n",
      "\n",
      "DATA\n",
      "    g = 9.81\n",
      "\n",
      "FILE\n",
      "    /home/sg/Documents/Didattica/MetodiComputazionali/metodi-computazionali-fisica/accessori/L09/caduta.py\n",
      "\n",
      "\n"
     ]
    }
   ],
   "source": [
    "help(caduta)"
   ]
  },
  {
   "cell_type": "markdown",
   "id": "e2dffddb",
   "metadata": {},
   "source": [
    "## Classi"
   ]
  },
  {
   "cell_type": "markdown",
   "id": "9deefd7e",
   "metadata": {},
   "source": [
    "Le Classi definiscono le caratteristiche di un Oggetto che corrisponde ad un istanza specifica della Classe.\n",
    "\n",
    "Un Classe viene definit attarverso l'istruzione `class` (ad esempio `class NomeClasse:`)\n",
    "\n",
    "Le Classi e i corrispettivi Oggetti possono avere:\n",
    "* Attributi: variabili che definiscono lo stato di un Oggetto\n",
    "* Metodi: funzioni che modificano lo stato di un Oggetto "
   ]
  },
  {
   "cell_type": "markdown",
   "id": "16d28270",
   "metadata": {},
   "source": [
    "#### `self`\n",
    "\n",
    "Le funzioni che definiscono i metodi di una Classe devono essere definite con un parametro aggiuntivo `self` in ingresso che puoi non deve essere passato all momento dell'utilizzo pratico dell'Oggetto \n",
    "\n",
    "Gli attribiti di un Classe definiti all'interno di un metodo devono essere derivati da `self` (`self.attribute`).\n",
    "\n",
    "####  `__init___`\n",
    "\n",
    "In generale è utile fare in modi che un ggetto venga cerato in uno stato predefinito, a tale scopo esiste il metodo \n",
    "`__init__` che viene chaimato al momento della creazione dell'oggetto."
   ]
  },
  {
   "cell_type": "markdown",
   "id": "8eb44c41",
   "metadata": {},
   "source": [
    "### Esempio Base di  Classe\n",
    "\n",
    "Vediamo un esempio basilare."
   ]
  },
  {
   "cell_type": "code",
   "execution_count": 11,
   "id": "305e3ec0",
   "metadata": {},
   "outputs": [],
   "source": [
    "class Saluti:\n",
    "    \"\"\"Esempio di Classe in Python\"\"\"\n",
    "\n",
    "    \n",
    "    def __init__(self):\n",
    "        self.saluto = 'Ciao!'     \n",
    "        self.saluti = [self.saluto]\n",
    "\n",
    "        \n",
    "    def un_saluto(self):\n",
    "        print(self.saluto)\n",
    "\n",
    "        \n",
    "    def salutare(self):\n",
    "        for s in self.saluti:        \n",
    "            print(s)\n",
    "\n",
    "            \n",
    "    def aggiungi_saluto(self, nuovo):\n",
    "        self.saluti.append(nuovo)\n",
    "\n",
    "        \n",
    "    def quanti_saluti(self):\n",
    "        return len(self.saluti)"
   ]
  },
  {
   "cell_type": "code",
   "execution_count": 12,
   "id": "b3049ebc",
   "metadata": {},
   "outputs": [],
   "source": [
    "mys = Saluti()\n"
   ]
  },
  {
   "cell_type": "code",
   "execution_count": 13,
   "id": "8bb256c6",
   "metadata": {},
   "outputs": [
    {
     "name": "stdout",
     "output_type": "stream",
     "text": [
      "Ciao!\n"
     ]
    }
   ],
   "source": [
    "mys.un_saluto()"
   ]
  },
  {
   "cell_type": "code",
   "execution_count": 14,
   "id": "45559c17",
   "metadata": {},
   "outputs": [
    {
     "name": "stdout",
     "output_type": "stream",
     "text": [
      "Ciao!\n"
     ]
    }
   ],
   "source": [
    "mys.salutare()"
   ]
  },
  {
   "cell_type": "code",
   "execution_count": 48,
   "id": "b62b70ea",
   "metadata": {},
   "outputs": [
    {
     "name": "stdout",
     "output_type": "stream",
     "text": [
      "2\n"
     ]
    }
   ],
   "source": [
    "ns = mys.quanti_saluti()\n",
    "print(ns) "
   ]
  },
  {
   "cell_type": "code",
   "execution_count": 16,
   "id": "1351d27e",
   "metadata": {},
   "outputs": [],
   "source": [
    "mys.aggiungi_saluto('Hello!')"
   ]
  },
  {
   "cell_type": "code",
   "execution_count": 17,
   "id": "01be876b",
   "metadata": {},
   "outputs": [
    {
     "name": "stdout",
     "output_type": "stream",
     "text": [
      "Saluti: 2\n"
     ]
    }
   ],
   "source": [
    "print('Saluti:', mys.quanti_saluti() )"
   ]
  },
  {
   "cell_type": "code",
   "execution_count": 18,
   "id": "bbed40e5",
   "metadata": {},
   "outputs": [
    {
     "name": "stdout",
     "output_type": "stream",
     "text": [
      "Ciao!\n",
      "Hello!\n"
     ]
    }
   ],
   "source": [
    "mys.salutare()"
   ]
  },
  {
   "cell_type": "code",
   "execution_count": 19,
   "id": "08732e84",
   "metadata": {},
   "outputs": [],
   "source": [
    "mys.saluto = 'Arrivederci'"
   ]
  },
  {
   "cell_type": "code",
   "execution_count": 20,
   "id": "f69dbebb",
   "metadata": {},
   "outputs": [
    {
     "name": "stdout",
     "output_type": "stream",
     "text": [
      "Arrivederci\n"
     ]
    }
   ],
   "source": [
    "mys.un_saluto()"
   ]
  },
  {
   "cell_type": "code",
   "execution_count": 21,
   "id": "11fba57b",
   "metadata": {},
   "outputs": [
    {
     "data": {
      "text/plain": [
       "['Ciao!', 'Hello!']"
      ]
     },
     "execution_count": 21,
     "metadata": {},
     "output_type": "execute_result"
    }
   ],
   "source": [
    "mys.saluti"
   ]
  },
  {
   "cell_type": "markdown",
   "id": "2195fed0",
   "metadata": {},
   "source": [
    "### Comparatori \n",
    "\n",
    "In una Classe possibile definire come confronatre, ordinare o iterare gli Oggetti definiti."
   ]
  },
  {
   "cell_type": "code",
   "execution_count": 42,
   "id": "8d429135",
   "metadata": {},
   "outputs": [],
   "source": [
    "class Veicolo():\n",
    "    \"\"\"\n",
    "    Classe per rappresentare i veicoli a ruote\n",
    "    \n",
    "    Paramtri\n",
    "    -------------------------------------------\n",
    "\n",
    "    nome    : nome veicolo\n",
    "    ruote   : numero ruote\n",
    "    potenza : potenza motore \n",
    "    \"\"\"\n",
    "    \n",
    "    def __init__(self, nome, ruote, potenza):\n",
    "        self.nome    = nome\n",
    "        self.ruote   = ruote\n",
    "        self.potenza = potenza\n",
    "        \n",
    "    def __eq__(self, other):\n",
    "        return  self.ruote == other.ruote and self.potenza == other.potenza\n",
    "\n",
    "\n",
    "    def __lt__(self, other):\n",
    "        return self.potenza < other.potenza\n",
    "\n",
    "    def __gt__(self, other):\n",
    "        return self.potenza > other.potenza\n",
    "    \n",
    "    def minore(self, other):\n",
    "        return self.potenza < other.potenza       "
   ]
  },
  {
   "cell_type": "code",
   "execution_count": 43,
   "id": "a2c5252f",
   "metadata": {},
   "outputs": [],
   "source": [
    "auto1  = Veicolo('Ferrari',   4, 490)\n",
    "auto2  = Veicolo('Fiat',      4, 120)\n",
    "auto3  = Veicolo('AlfaRomea', 4, 120)\n",
    "cargo1 = Veicolo('Iveco',     6, 560)"
   ]
  },
  {
   "cell_type": "code",
   "execution_count": 44,
   "id": "3dca23c7",
   "metadata": {},
   "outputs": [
    {
     "data": {
      "text/plain": [
       "False"
      ]
     },
     "execution_count": 44,
     "metadata": {},
     "output_type": "execute_result"
    }
   ],
   "source": [
    "auto1 == auto2"
   ]
  },
  {
   "cell_type": "code",
   "execution_count": 45,
   "id": "2a13e18a",
   "metadata": {},
   "outputs": [
    {
     "data": {
      "text/plain": [
       "True"
      ]
     },
     "execution_count": 45,
     "metadata": {},
     "output_type": "execute_result"
    }
   ],
   "source": [
    "auto1 > auto2"
   ]
  },
  {
   "cell_type": "code",
   "execution_count": 46,
   "id": "afa895b5",
   "metadata": {},
   "outputs": [
    {
     "data": {
      "text/plain": [
       "False"
      ]
     },
     "execution_count": 46,
     "metadata": {},
     "output_type": "execute_result"
    }
   ],
   "source": [
    "auto1 < auto2"
   ]
  },
  {
   "cell_type": "code",
   "execution_count": 47,
   "id": "6872887f",
   "metadata": {},
   "outputs": [
    {
     "data": {
      "text/plain": [
       "False"
      ]
     },
     "execution_count": 47,
     "metadata": {},
     "output_type": "execute_result"
    }
   ],
   "source": [
    "auto1.minore(auto2)"
   ]
  },
  {
   "cell_type": "code",
   "execution_count": 28,
   "id": "7a1ad69e",
   "metadata": {},
   "outputs": [
    {
     "data": {
      "text/plain": [
       "True"
      ]
     },
     "execution_count": 28,
     "metadata": {},
     "output_type": "execute_result"
    }
   ],
   "source": [
    "auto2 == auto3"
   ]
  },
  {
   "cell_type": "code",
   "execution_count": 29,
   "id": "2aa0f872",
   "metadata": {},
   "outputs": [
    {
     "data": {
      "text/plain": [
       "True"
      ]
     },
     "execution_count": 29,
     "metadata": {},
     "output_type": "execute_result"
    }
   ],
   "source": [
    "cargo1 > auto1"
   ]
  },
  {
   "cell_type": "code",
   "execution_count": 30,
   "id": "6f7f59b2",
   "metadata": {},
   "outputs": [
    {
     "name": "stdout",
     "output_type": "stream",
     "text": [
      "Ferrari\n",
      "Fiat\n",
      "AlfaRomea\n"
     ]
    }
   ],
   "source": [
    "aa = [ auto1, auto2, auto3]\n",
    "\n",
    "for a in aa:\n",
    "    print(a.nome)"
   ]
  },
  {
   "cell_type": "markdown",
   "id": "9ee878fd",
   "metadata": {},
   "source": [
    "### Import"
   ]
  },
  {
   "cell_type": "markdown",
   "id": "aeb01249",
   "metadata": {},
   "source": [
    "Le classi possono essere definiti in moduli da importare.\n",
    "\n",
    "Analizziamo il file `animali.py`:"
   ]
  },
  {
   "cell_type": "markdown",
   "id": "f82583d2",
   "metadata": {},
   "source": [
    "```\n",
    "class Cane():\n",
    "\n",
    "    _tipo = 'Animale Domestico'\n",
    "    \n",
    "    def __init__(self, nome, razza, colore):\n",
    "        self.nome   = nome\n",
    "        self.razza  = razza\n",
    "        self.colore = colore\n",
    " \n",
    "\n",
    "    def descrizione(self):\n",
    "        print('--------------------------------')\n",
    "        print('Cane     {:}'.format(self._tipo ))        \n",
    "        print('  nome   {:}'.format(self.nome  ))\n",
    "        print('  razza  {:}'.format(self.razza ))\n",
    "        print('  colore {:}'.format(self.colore))\n",
    "        print('--------------------------------')\n",
    "\n",
    "\n",
    "\n",
    "\n",
    "class Felino():\n",
    "\n",
    "    _tipo = 'Carnivoro'\n",
    "    \n",
    "    def __init__(self, nomes, origine, peso):\n",
    "        self.nomes    = nomes\n",
    "        self.origine  = origine\n",
    "        self.peso     = peso\n",
    "\n",
    "\n",
    "    def descrizione(self):\n",
    "        print('--------------------------------------------')\n",
    "        print('Felino             {:}'.format(self._tipo   ))        \n",
    "        print('  nome scientifico {:}'.format(self.nomes   ))\n",
    "        print('  origine          {:}'.format(self.origine ))\n",
    "        print('  peso             {:}'.format(self.peso    ))\n",
    "        print('--------------------------------------------')\n",
    "\n",
    "\n",
    "```"
   ]
  },
  {
   "cell_type": "code",
   "execution_count": 31,
   "id": "e3a78e2b",
   "metadata": {},
   "outputs": [],
   "source": [
    "import animali"
   ]
  },
  {
   "cell_type": "code",
   "execution_count": 32,
   "id": "adb0b393",
   "metadata": {},
   "outputs": [],
   "source": [
    "fido = animali.Cane('Fido', 'Meticcio', 'Nero')"
   ]
  },
  {
   "cell_type": "code",
   "execution_count": 33,
   "id": "d0364060",
   "metadata": {},
   "outputs": [
    {
     "name": "stdout",
     "output_type": "stream",
     "text": [
      "--------------------------------\n",
      "Cane     Animale Domestico\n",
      "  nome   Fido\n",
      "  razza  Meticcio\n",
      "  colore Nero\n",
      "--------------------------------\n"
     ]
    }
   ],
   "source": [
    "fido.descrizione()"
   ]
  },
  {
   "cell_type": "code",
   "execution_count": 34,
   "id": "806b2240",
   "metadata": {},
   "outputs": [],
   "source": [
    "simba = animali.Felino('Panthera Leo', 'Africa', 300)"
   ]
  },
  {
   "cell_type": "code",
   "execution_count": 35,
   "id": "fd216861",
   "metadata": {},
   "outputs": [
    {
     "name": "stdout",
     "output_type": "stream",
     "text": [
      "--------------------------------------------\n",
      "Felino             Carnivoro\n",
      "  nome scientifico Panthera Leo\n",
      "  origine          Africa\n",
      "  peso             300\n",
      "--------------------------------------------\n"
     ]
    }
   ],
   "source": [
    "simba.descrizione()"
   ]
  },
  {
   "cell_type": "code",
   "execution_count": 37,
   "id": "8ced53b6",
   "metadata": {},
   "outputs": [],
   "source": [
    "from animali import Felino"
   ]
  },
  {
   "cell_type": "code",
   "execution_count": 38,
   "id": "ba8f7a2a",
   "metadata": {},
   "outputs": [],
   "source": [
    "tigrea = Felino('Panther XXX', 'Asia', 330)"
   ]
  },
  {
   "cell_type": "code",
   "execution_count": 39,
   "id": "656fc1c7",
   "metadata": {},
   "outputs": [
    {
     "name": "stdout",
     "output_type": "stream",
     "text": [
      "--------------------------------------------\n",
      "Felino             Carnivoro\n",
      "  nome scientifico Panther XXX\n",
      "  origine          Asia\n",
      "  peso             330\n",
      "--------------------------------------------\n"
     ]
    }
   ],
   "source": [
    "tigrea.descrizione()"
   ]
  },
  {
   "cell_type": "code",
   "execution_count": null,
   "id": "57663992",
   "metadata": {},
   "outputs": [],
   "source": []
  }
 ],
 "metadata": {
  "kernelspec": {
   "display_name": "Python 3 (ipykernel)",
   "language": "python",
   "name": "python3"
  },
  "language_info": {
   "codemirror_mode": {
    "name": "ipython",
    "version": 3
   },
   "file_extension": ".py",
   "mimetype": "text/x-python",
   "name": "python",
   "nbconvert_exporter": "python",
   "pygments_lexer": "ipython3",
   "version": "3.8.10"
  }
 },
 "nbformat": 4,
 "nbformat_minor": 5
}
