{
 "cells": [
  {
   "cell_type": "markdown",
   "id": "ce2127b4",
   "metadata": {},
   "source": [
    "# Copie in Numpy"
   ]
  },
  {
   "cell_type": "markdown",
   "id": "cd29b55f",
   "metadata": {},
   "source": [
    "In python, se non diversamente specificato, la copia di un oggetto crea un collegamento in memoria. La mdifica di un oggetto copiato ha effetto anche sull'oggetto di partenza."
   ]
  },
  {
   "cell_type": "code",
   "execution_count": 4,
   "id": "144f4140",
   "metadata": {},
   "outputs": [
    {
     "data": {
      "text/plain": [
       "[1, 2, 3, 4]"
      ]
     },
     "execution_count": 4,
     "metadata": {},
     "output_type": "execute_result"
    }
   ],
   "source": [
    "a = [1,2,3,4]\n",
    "a"
   ]
  },
  {
   "cell_type": "code",
   "execution_count": 6,
   "id": "e8b8a4d0",
   "metadata": {},
   "outputs": [
    {
     "data": {
      "text/plain": [
       "[1, 2, 3, 4]"
      ]
     },
     "execution_count": 6,
     "metadata": {},
     "output_type": "execute_result"
    }
   ],
   "source": [
    "b = a\n",
    "b"
   ]
  },
  {
   "cell_type": "code",
   "execution_count": 18,
   "id": "329bf4cb",
   "metadata": {},
   "outputs": [
    {
     "data": {
      "text/plain": [
       "[-1, 2, 3, 4]"
      ]
     },
     "execution_count": 18,
     "metadata": {},
     "output_type": "execute_result"
    }
   ],
   "source": [
    "b[0]=-1\n",
    "b"
   ]
  },
  {
   "cell_type": "code",
   "execution_count": 8,
   "id": "a222aada",
   "metadata": {},
   "outputs": [
    {
     "data": {
      "text/plain": [
       "[-1, 2, 3, 4]"
      ]
     },
     "execution_count": 8,
     "metadata": {},
     "output_type": "execute_result"
    }
   ],
   "source": [
    "a"
   ]
  },
  {
   "cell_type": "markdown",
   "id": "52384f8b",
   "metadata": {},
   "source": [
    "Per evitare che l'ggetto originale venga modificato bisogna utilizzare l'istruzione `copy`"
   ]
  },
  {
   "cell_type": "code",
   "execution_count": 19,
   "id": "fa5c1d2f",
   "metadata": {},
   "outputs": [
    {
     "data": {
      "text/plain": [
       "[-1, 2, 3, 4]"
      ]
     },
     "execution_count": 19,
     "metadata": {},
     "output_type": "execute_result"
    }
   ],
   "source": [
    "c = a.copy()\n",
    "c"
   ]
  },
  {
   "cell_type": "code",
   "execution_count": 20,
   "id": "f40b6c96",
   "metadata": {},
   "outputs": [
    {
     "data": {
      "text/plain": [
       "[99, 2, 3, 4]"
      ]
     },
     "execution_count": 20,
     "metadata": {},
     "output_type": "execute_result"
    }
   ],
   "source": [
    "c[0] = 99\n",
    "c"
   ]
  },
  {
   "cell_type": "code",
   "execution_count": 21,
   "id": "921b37f5",
   "metadata": {},
   "outputs": [
    {
     "data": {
      "text/plain": [
       "[-1, 2, 3, 4]"
      ]
     },
     "execution_count": 21,
     "metadata": {},
     "output_type": "execute_result"
    }
   ],
   "source": [
    "a"
   ]
  },
  {
   "cell_type": "markdown",
   "id": "331c3b09",
   "metadata": {},
   "source": [
    "#### is or =="
   ]
  },
  {
   "cell_type": "markdown",
   "id": "a812e8db",
   "metadata": {},
   "source": [
    "L'istruzione `==` controlla  valore contenuto da una variabile.\n",
    "\n",
    "L'struzione `is` controlla l'oggeto in memoria."
   ]
  },
  {
   "cell_type": "code",
   "execution_count": 22,
   "id": "37d62bfa",
   "metadata": {},
   "outputs": [],
   "source": [
    "aa = [1,2,3,4]\n",
    "bb = aa\n",
    "cc = aa.copy()"
   ]
  },
  {
   "cell_type": "code",
   "execution_count": 23,
   "id": "491fd84d",
   "metadata": {},
   "outputs": [
    {
     "data": {
      "text/plain": [
       "True"
      ]
     },
     "execution_count": 23,
     "metadata": {},
     "output_type": "execute_result"
    }
   ],
   "source": [
    "aa == bb"
   ]
  },
  {
   "cell_type": "code",
   "execution_count": 24,
   "id": "fdb68b49",
   "metadata": {},
   "outputs": [
    {
     "data": {
      "text/plain": [
       "True"
      ]
     },
     "execution_count": 24,
     "metadata": {},
     "output_type": "execute_result"
    }
   ],
   "source": [
    "aa == cc"
   ]
  },
  {
   "cell_type": "code",
   "execution_count": 25,
   "id": "14686874",
   "metadata": {},
   "outputs": [
    {
     "data": {
      "text/plain": [
       "True"
      ]
     },
     "execution_count": 25,
     "metadata": {},
     "output_type": "execute_result"
    }
   ],
   "source": [
    "aa is bb"
   ]
  },
  {
   "cell_type": "code",
   "execution_count": 26,
   "id": "fb7cb8f8",
   "metadata": {},
   "outputs": [
    {
     "data": {
      "text/plain": [
       "False"
      ]
     },
     "execution_count": 26,
     "metadata": {},
     "output_type": "execute_result"
    }
   ],
   "source": [
    "aa is cc"
   ]
  }
 ],
 "metadata": {
  "kernelspec": {
   "display_name": "Python 3 (ipykernel)",
   "language": "python",
   "name": "python3"
  },
  "language_info": {
   "codemirror_mode": {
    "name": "ipython",
    "version": 3
   },
   "file_extension": ".py",
   "mimetype": "text/x-python",
   "name": "python",
   "nbconvert_exporter": "python",
   "pygments_lexer": "ipython3",
   "version": "3.8.10"
  }
 },
 "nbformat": 4,
 "nbformat_minor": 5
}
