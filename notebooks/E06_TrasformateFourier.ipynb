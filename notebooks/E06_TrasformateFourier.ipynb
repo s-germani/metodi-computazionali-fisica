{
 "cells": [
  {
   "cell_type": "markdown",
   "id": "d594a2ff",
   "metadata": {},
   "source": [
    "# Esercitazione sulle Trasformate di Fourier"
   ]
  },
  {
   "cell_type": "markdown",
   "id": "4890f918",
   "metadata": {},
   "source": [
    "## Dati\n",
    "\n",
    "I dati possono essere scaricati tranite lo script *get_data.py* del pacchetto *get-mcf-data*, dopo aver aggiurnato il pacchetto stesso (`git pull`):\n",
    "\n",
    "`python(3)  get_data.py --e06  percrso/cartella/esercitazione`\n",
    "\n",
    "\n",
    "I file di dati scaricati dovrebbero essere:\n",
    "\n",
    "* *SN_m_tot_V2.0.csv*  (Esempio macchie solari visto a lezione)\n",
    "* *data_sample1.csv*   (White - Pink - Red Noise)\n",
    "* *data_sample2.csv*   (White - Pink - Red Noise)\n",
    "* *data_sample3.csv*   (White - Pink - Red Noise)\n",
    "* *copernicus_PG_selected.csv*    (Inquinanti Copernicus)"
   ]
  },
  {
   "cell_type": "markdown",
   "id": "8d4d276a",
   "metadata": {},
   "source": [
    "## White - Pink - Red Noise \n",
    "\n",
    "Diversi tipi di rumore sono identificati da come l'ampiezza delle oscillazioni è legata alla loro frequenza, tale relazione si rispecchia in uno spettro di potenza di pendenza diversa.\n",
    "\n",
    "* Il rumore bianco (*white noise*) ha la stessa ampiezza a tutte le frquenze;\n",
    "* Il rumore rosa (*pink noise*) ha una dipendenza dello spettro di  potenza come $1/f$;\n",
    "* Il rumore rosso (*red noise*), anche detto *brown noise* perchè legato al moto browninano, ha una dipendenza dello spettro di potenza come $1/f^2$. \n",
    "\n",
    "In generale la dipendenza dello spettro di potenza dalla frequenza può essere espressa come $1/f^{\\beta}$."
   ]
  },
  {
   "cell_type": "markdown",
   "id": "950f1167",
   "metadata": {},
   "source": [
    "Vengono messi a disposizione tre file con diversi campioni di rumore:\n",
    "* *data_sample1.csv*\n",
    "* *data_sample2.csv*\n",
    "* *data_sample3.csv*\n",
    "\n",
    "Realizzare uno script python che:\n",
    "* Legga i tre file messi a disposizione;\n",
    "* Produca un grafico dei tre segnali di ingresso;\n",
    "* Calcoli la trasformata di Fourier dei segnali di ingreso e produca il grafico dello spettro di potenza;\n",
    "* Faccia il fit dei tre spettri di potenza per determinarne l'andamento in funzione della frequenza e identifichi il tipo di rumore per ogni serie di dati.\n",
    "* Confronti i tre spettri di potenza e i relativi fit"
   ]
  },
  {
   "cell_type": "markdown",
   "id": "9297c4af",
   "metadata": {},
   "source": [
    "## Dati Copernicus su Inquinanti Atmosferici\n",
    "\n",
    "Vengono messi a disposizione  dei dati elaborati a partire dalle misure pubblicamente disponibili grazie al programma Copernicus della UE (https://www.copernicus.eu/it)\n",
    "\n",
    "I dati sono contenuti nel file *copernicus_PG_selected.csv* e contengono informazioni sulla concentrazione di inquinanti nell'atmosera a Perugia per un periodo di alcuni anni (dopo essere stati elaborati per semplificarne l'utilizzo). \n",
    "\n"
   ]
  },
  {
   "cell_type": "markdown",
   "id": "778005df",
   "metadata": {},
   "source": [
    "Scrivere uno script python che:\n",
    "* Legga il file *copernicus_PG_selected.csv*; \n",
    "* Produca un grafico della concentrazione di inquinanti in funzione del tempo;\n",
    "    * Si noti che il tempo è espresso in due modi diversi in altrettante colonne;\n",
    "    * Scegliere il metodo più adatto per rappresentare il tempo;\n",
    "* Analizzi i dati per la *CO* come di seguito:\n",
    "    * Calcoli la trasformata di Fourier della serie temporale\n",
    "    * Produca un grafico dello spettro di potenza in funzione della frequenza\n",
    "    * Identifichi eventuali periodicità\n",
    "    * Produca il grafico dello spettro di potenza in funzione del periodo\n",
    "    * Applichi un filtro ai coefficienti di fourier selezionando solo le componenti che descrivono l'andamento generale in funzione del tempo (escludendo futtuazioni di breve periodo)\n",
    "    * Calcoli la trafsformata di Fourier inversa a partire dai coefficienti filtarti\n",
    "    * Produca un grafico che confronti il segale originale con quello filtrato\n",
    "* OPZIONALE: Ripeta l'analisi per uno o più degli altri inquinanti e confronti lo spettro di potenza dei diversi inquinanti\n",
    "    \n",
    "    "
   ]
  }
 ],
 "metadata": {
  "kernelspec": {
   "display_name": "Python 3 (ipykernel)",
   "language": "python",
   "name": "python3"
  },
  "language_info": {
   "codemirror_mode": {
    "name": "ipython",
    "version": 3
   },
   "file_extension": ".py",
   "mimetype": "text/x-python",
   "name": "python",
   "nbconvert_exporter": "python",
   "pygments_lexer": "ipython3",
   "version": "3.8.10"
  }
 },
 "nbformat": 4,
 "nbformat_minor": 5
}
