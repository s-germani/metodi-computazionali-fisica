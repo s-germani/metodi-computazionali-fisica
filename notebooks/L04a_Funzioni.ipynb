{
 "cells": [
  {
   "cell_type": "markdown",
   "id": "7a7c0d82",
   "metadata": {},
   "source": [
    "# Funzioni in Python"
   ]
  },
  {
   "cell_type": "markdown",
   "id": "aa1f16bd",
   "metadata": {},
   "source": [
    "Un blocco di codice che vinene utilizzato più volte dovrebbe essere inclus in una funzione. \n",
    "\n",
    "* Un funzione è definita tramite la *keyword* `def` seguita dal nome della funzione stessa;\n",
    "* Il codice che va racchiuso in una funzione deve essere indentanto;\n",
    "* Il codice contenuto in  una funzione non viene eseguito al momento della definizione ma quando la funzione stessa viene richiamata;\n",
    "* Una funzione può accettare zero, uno o più parametri in ingresso;\n",
    "* Una funzione python può, opzionalmente restituire, uno o più valori o oggetti in uscita."
   ]
  },
  {
   "cell_type": "code",
   "execution_count": 1,
   "id": "d935937e",
   "metadata": {},
   "outputs": [],
   "source": [
    "# Definisco la funzione ciao\n",
    "def ciao():\n",
    "    print('CIAO')"
   ]
  },
  {
   "cell_type": "code",
   "execution_count": 2,
   "id": "363ec980",
   "metadata": {},
   "outputs": [
    {
     "name": "stdout",
     "output_type": "stream",
     "text": [
      "CIAO\n"
     ]
    }
   ],
   "source": [
    "# Eseguo la funzione ciao\n",
    "ciao()"
   ]
  },
  {
   "cell_type": "code",
   "execution_count": 3,
   "id": "8f03dce2",
   "metadata": {},
   "outputs": [],
   "source": [
    "# Funzopne con 1 parametro in ingresso\n",
    "def nciao(n):\n",
    "    for i in range(n):\n",
    "        print('CIAO',i+1)"
   ]
  },
  {
   "cell_type": "code",
   "execution_count": 4,
   "id": "fcb84353",
   "metadata": {},
   "outputs": [
    {
     "name": "stdout",
     "output_type": "stream",
     "text": [
      "CIAO 1\n",
      "CIAO 2\n",
      "CIAO 3\n",
      "CIAO 4\n"
     ]
    }
   ],
   "source": [
    "nciao(4)"
   ]
  },
  {
   "cell_type": "code",
   "execution_count": 5,
   "id": "32531839",
   "metadata": {},
   "outputs": [],
   "source": [
    "# Funzopne con 1 parametro in ingresso che restituisce un valore in uscita\n",
    "def quadrato(x):\n",
    "    return x**2"
   ]
  },
  {
   "cell_type": "code",
   "execution_count": 6,
   "id": "c7c72579",
   "metadata": {},
   "outputs": [
    {
     "name": "stdout",
     "output_type": "stream",
     "text": [
      "9\n"
     ]
    }
   ],
   "source": [
    "print( quadrato(3))"
   ]
  },
  {
   "cell_type": "code",
   "execution_count": 7,
   "id": "e7a1dbb2",
   "metadata": {},
   "outputs": [
    {
     "name": "stdout",
     "output_type": "stream",
     "text": [
      "9\n"
     ]
    }
   ],
   "source": [
    "# Immagazzino il valore restituito daal funzione quadrato in q3\n",
    "q3 = quadrato(3)\n",
    "print(q3)"
   ]
  },
  {
   "cell_type": "code",
   "execution_count": 8,
   "id": "dced6eb6",
   "metadata": {},
   "outputs": [],
   "source": [
    "# Funzione quadrato assegnata come oggetto\n",
    "qq  = quadrato"
   ]
  },
  {
   "cell_type": "code",
   "execution_count": 9,
   "id": "ca4ea4f0",
   "metadata": {},
   "outputs": [
    {
     "data": {
      "text/plain": [
       "9"
      ]
     },
     "execution_count": 9,
     "metadata": {},
     "output_type": "execute_result"
    }
   ],
   "source": [
    "qq(3)"
   ]
  },
  {
   "cell_type": "code",
   "execution_count": 10,
   "id": "ba0f925d",
   "metadata": {},
   "outputs": [],
   "source": [
    "# Funzione con 3 parametri in ingresso\n",
    "def myf(a,b,c):\n",
    "    return a+b+c"
   ]
  },
  {
   "cell_type": "code",
   "execution_count": 11,
   "id": "18d48093",
   "metadata": {},
   "outputs": [
    {
     "data": {
      "text/plain": [
       "6"
      ]
     },
     "execution_count": 11,
     "metadata": {},
     "output_type": "execute_result"
    }
   ],
   "source": [
    "myf(1,2,3)"
   ]
  },
  {
   "cell_type": "code",
   "execution_count": 12,
   "id": "cc481510",
   "metadata": {},
   "outputs": [
    {
     "ename": "TypeError",
     "evalue": "myf() missing 1 required positional argument: 'c'",
     "output_type": "error",
     "traceback": [
      "\u001b[0;31m---------------------------------------------------------------------------\u001b[0m",
      "\u001b[0;31mTypeError\u001b[0m                                 Traceback (most recent call last)",
      "Cell \u001b[0;32mIn [12], line 1\u001b[0m\n\u001b[0;32m----> 1\u001b[0m \u001b[43mmyf\u001b[49m\u001b[43m(\u001b[49m\u001b[38;5;241;43m1\u001b[39;49m\u001b[43m,\u001b[49m\u001b[38;5;241;43m2\u001b[39;49m\u001b[43m)\u001b[49m\n",
      "\u001b[0;31mTypeError\u001b[0m: myf() missing 1 required positional argument: 'c'"
     ]
    }
   ],
   "source": [
    "myf(1,2)"
   ]
  },
  {
   "cell_type": "code",
   "execution_count": 13,
   "id": "6b79707f",
   "metadata": {},
   "outputs": [],
   "source": [
    "# Funzione con tre parametri in ingresso\n",
    "# il parametro c ha un valore di default che assume se non altrimenti  specificato\n",
    "def myf2(a,b,c=1):\n",
    "    return a+b+c"
   ]
  },
  {
   "cell_type": "code",
   "execution_count": 14,
   "id": "40a4cd95",
   "metadata": {},
   "outputs": [
    {
     "data": {
      "text/plain": [
       "4"
      ]
     },
     "execution_count": 14,
     "metadata": {},
     "output_type": "execute_result"
    }
   ],
   "source": [
    "myf2(1,2)"
   ]
  },
  {
   "cell_type": "code",
   "execution_count": 15,
   "id": "b0961098",
   "metadata": {},
   "outputs": [
    {
     "data": {
      "text/plain": [
       "6"
      ]
     },
     "execution_count": 15,
     "metadata": {},
     "output_type": "execute_result"
    }
   ],
   "source": [
    "myf2(1,2,3)"
   ]
  },
  {
   "cell_type": "code",
   "execution_count": 16,
   "id": "1477ecf0",
   "metadata": {},
   "outputs": [],
   "source": [
    "# Funzopne con 2 parametri in ingresso e due  valori in uscita\n",
    "def sumprod(a,b):\n",
    "    return a+b, a*b"
   ]
  },
  {
   "cell_type": "code",
   "execution_count": 17,
   "id": "017d22ee",
   "metadata": {},
   "outputs": [
    {
     "name": "stdout",
     "output_type": "stream",
     "text": [
      "somma    3\n",
      "prodotto 2\n"
     ]
    }
   ],
   "source": [
    "s, p = sumprod(1,2)\n",
    "print('somma   ',s)\n",
    "print('prodotto',p)"
   ]
  },
  {
   "cell_type": "code",
   "execution_count": 18,
   "id": "8dd1f39e",
   "metadata": {},
   "outputs": [
    {
     "name": "stdout",
     "output_type": "stream",
     "text": [
      "sp       (3, 2)\n",
      "somma    3\n",
      "prodotto 2\n"
     ]
    }
   ],
   "source": [
    "sp = sumprod(1,2)\n",
    "print('sp      ', sp)\n",
    "print('somma   ', sp[0])\n",
    "print('prodotto', sp[1])"
   ]
  },
  {
   "cell_type": "markdown",
   "id": "59756d99",
   "metadata": {},
   "source": [
    "### args, kwargs\n",
    "\n",
    "Oltre ai paramatri specificati direttamente, una funzione può avere:\n",
    "* un numero indefinito di parametri posizionali raggruppati in un ntupla attraverso la forma speciale `*args`;\n",
    "* un numero indefinito di parametriidentificati da chiavi *keywords* e raggruppati attravreso un *dictionary*; nella forma speciale `**kwargs`."
   ]
  },
  {
   "cell_type": "code",
   "execution_count": 19,
   "id": "aab57a23",
   "metadata": {},
   "outputs": [],
   "source": [
    "# Funzione con indefiniti  paramtri posizionali \n",
    "def myargsf(*args):\n",
    "    print(args)"
   ]
  },
  {
   "cell_type": "code",
   "execution_count": 20,
   "id": "2f72c1f4",
   "metadata": {},
   "outputs": [
    {
     "name": "stdout",
     "output_type": "stream",
     "text": [
      "(1, 2, 'ciao')\n"
     ]
    }
   ],
   "source": [
    "myargsf(1,2,'ciao')"
   ]
  },
  {
   "cell_type": "code",
   "execution_count": 21,
   "id": "114eb141",
   "metadata": {},
   "outputs": [],
   "source": [
    "def myargsf2(*args):\n",
    "    sum = 0\n",
    "    if len(args)> 0 :\n",
    "        sum = args[0]\n",
    "    if len(args)> 1:\n",
    "        sum = sum + args[1] \n",
    "    if len(args) > 2:\n",
    "        print(args[2])\n",
    "        \n",
    "    return sum"
   ]
  },
  {
   "cell_type": "code",
   "execution_count": 22,
   "id": "c0d40092",
   "metadata": {},
   "outputs": [
    {
     "name": "stdout",
     "output_type": "stream",
     "text": [
      "ciao\n"
     ]
    },
    {
     "data": {
      "text/plain": [
       "3"
      ]
     },
     "execution_count": 22,
     "metadata": {},
     "output_type": "execute_result"
    }
   ],
   "source": [
    "myargsf2(1,2,'ciao')"
   ]
  },
  {
   "cell_type": "code",
   "execution_count": 23,
   "id": "0b266b02",
   "metadata": {},
   "outputs": [],
   "source": [
    "# Funzione con parametri identificati da keywords \n",
    "def mykargsf(**kwargs):\n",
    "    print(kwargs)"
   ]
  },
  {
   "cell_type": "code",
   "execution_count": 24,
   "id": "3838ff1f",
   "metadata": {},
   "outputs": [
    {
     "name": "stdout",
     "output_type": "stream",
     "text": [
      "{'x': 1, 'y': 2, 'z': 3}\n"
     ]
    }
   ],
   "source": [
    "mykargsf(x=1, y=2, z=3)"
   ]
  },
  {
   "cell_type": "code",
   "execution_count": 25,
   "id": "94f98a83",
   "metadata": {},
   "outputs": [],
   "source": [
    "# Funzione con parametri identificati da keywords \n",
    "def mykargsf2(**kwargs):\n",
    "    sum = 0  \n",
    "    for key, value in kwargs.items():\n",
    "        print(\"The value of {} is {}\".format(key, value))\n",
    "        if key == 'x':\n",
    "            sum = sum + value\n",
    "        elif key == 'y':\n",
    "            sum = sum + 2*value\n",
    "        elif key == 'z':\n",
    "            sum = sum + 0.5*value\n",
    "    return sum"
   ]
  },
  {
   "cell_type": "code",
   "execution_count": 26,
   "id": "111d68f6",
   "metadata": {},
   "outputs": [
    {
     "name": "stdout",
     "output_type": "stream",
     "text": [
      "The value of x is 1\n",
      "The value of y is 2\n",
      "The value of z is 3\n",
      "The value of w is 5\n"
     ]
    },
    {
     "data": {
      "text/plain": [
       "6.5"
      ]
     },
     "execution_count": 26,
     "metadata": {},
     "output_type": "execute_result"
    }
   ],
   "source": [
    "mykargsf2(x=1, y=2, z=3, w=5)"
   ]
  },
  {
   "cell_type": "code",
   "execution_count": 27,
   "id": "c0478fb8",
   "metadata": {},
   "outputs": [],
   "source": [
    "def print_all_args(**kwargs):\n",
    "    print(kwargs)\n",
    "\n",
    "# Funzione con parametri posizionali definiti e parametri identificati da keywords \n",
    "def myff(a, b, **kwargs):\n",
    "    sum = a + b\n",
    "    print_all_args(**kwargs)\n",
    "    print_all_args(a=a, b=b, **kwargs)\n",
    "    return sum\n",
    "    "
   ]
  },
  {
   "cell_type": "code",
   "execution_count": 28,
   "id": "ad9f22d0",
   "metadata": {},
   "outputs": [
    {
     "name": "stdout",
     "output_type": "stream",
     "text": [
      "{'c': 10, 'd': 11, 'e': 12}\n",
      "{'a': 2, 'b': 4, 'c': 10, 'd': 11, 'e': 12}\n"
     ]
    }
   ],
   "source": [
    "mysum = myff(2,4, c=10, d=11, e=12)"
   ]
  },
  {
   "cell_type": "code",
   "execution_count": 29,
   "id": "2c6ef38e",
   "metadata": {},
   "outputs": [
    {
     "name": "stdout",
     "output_type": "stream",
     "text": [
      "mysum 6\n"
     ]
    }
   ],
   "source": [
    "print('mysum', mysum)"
   ]
  },
  {
   "cell_type": "markdown",
   "id": "0959cef4",
   "metadata": {},
   "source": [
    "### Docstring\n",
    "\n",
    "Una corretta definizione di una funzione dovrebbe includere una *docstring*.\n",
    "\n",
    "Ci sono delle convenzoni da seguire per un'apprpriata definizione:\n",
    "- https://peps.python.org/pep-0257/\n",
    "- https://numpydoc.readthedocs.io/en/latest/format.html#docstring-standard"
   ]
  },
  {
   "cell_type": "code",
   "execution_count": 30,
   "id": "a871a819",
   "metadata": {},
   "outputs": [],
   "source": [
    "def decay(x, N, tau):\n",
    "    \"\"\"\n",
    "    Funzione che descrive il numero di particelle o nuclei insatbili nel tempo\n",
    "    \n",
    "    Parametri\n",
    "    -----------\n",
    "        N:   numero di particelle iniziali \n",
    "        tau: costante di decadimento (vita media)\n",
    "    \n",
    "    Restituisce\n",
    "    -----------\n",
    "         N*e^-(x/tau) \n",
    "    \"\"\"\n",
    "    \n",
    "    return N*np.exp(-x/tau)"
   ]
  },
  {
   "cell_type": "code",
   "execution_count": 31,
   "id": "3871572e",
   "metadata": {},
   "outputs": [
    {
     "data": {
      "text/plain": [
       "<function __main__.decay(x, N, tau)>"
      ]
     },
     "execution_count": 31,
     "metadata": {},
     "output_type": "execute_result"
    }
   ],
   "source": [
    "decay"
   ]
  },
  {
   "cell_type": "code",
   "execution_count": 32,
   "id": "c97b79b4",
   "metadata": {},
   "outputs": [
    {
     "data": {
      "text/plain": [
       "'\\n    Funzione che descrive il numero di particelle o nuclei insatbili nel tempo\\n    \\n    Parametri\\n    -----------\\n        N:   numero di particelle iniziali \\n        tau: costante di decadimento (vita media)\\n    \\n    Restituisce\\n    -----------\\n         N*e^-(x/tau) \\n    '"
      ]
     },
     "execution_count": 32,
     "metadata": {},
     "output_type": "execute_result"
    }
   ],
   "source": [
    "decay.__doc__"
   ]
  },
  {
   "cell_type": "code",
   "execution_count": 33,
   "id": "7f821e8e",
   "metadata": {},
   "outputs": [
    {
     "name": "stdout",
     "output_type": "stream",
     "text": [
      "Help on function decay in module __main__:\n",
      "\n",
      "decay(x, N, tau)\n",
      "    Funzione che descrive il numero di particelle o nuclei insatbili nel tempo\n",
      "    \n",
      "    Parametri\n",
      "    -----------\n",
      "        N:   numero di particelle iniziali \n",
      "        tau: costante di decadimento (vita media)\n",
      "    \n",
      "    Restituisce\n",
      "    -----------\n",
      "         N*e^-(x/tau)\n",
      "\n"
     ]
    }
   ],
   "source": [
    "help(decay)"
   ]
  }
 ],
 "metadata": {
  "kernelspec": {
   "display_name": "Python 3 (ipykernel)",
   "language": "python",
   "name": "python3"
  },
  "language_info": {
   "codemirror_mode": {
    "name": "ipython",
    "version": 3
   },
   "file_extension": ".py",
   "mimetype": "text/x-python",
   "name": "python",
   "nbconvert_exporter": "python",
   "pygments_lexer": "ipython3",
   "version": "3.8.10"
  }
 },
 "nbformat": 4,
 "nbformat_minor": 5
}
