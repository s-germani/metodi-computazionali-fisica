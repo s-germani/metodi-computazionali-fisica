{
 "cells": [
  {
   "cell_type": "markdown",
   "id": "12c9b487",
   "metadata": {},
   "source": [
    "# Esercitazione su Markov Chain Monte Carlo"
   ]
  },
  {
   "cell_type": "markdown",
   "id": "c87164c1",
   "metadata": {},
   "source": [
    "## Dati\n",
    "\n",
    "**Per chi usa un sistema Linux**:\n",
    "\n",
    "I dati possono essere scaricati tramite lo script *get_data.py* del pacchetto *get-mcf-data*, dopo aver aggiornato il pacchetto stesso (`git pull`):\n",
    "\n",
    "`python(3)  get_data.py --e08  percrso/cartella/esercitazione`\n",
    "\n",
    "Il file di dati scaricato dovrebbe essere:\n",
    "\n",
    "* *absorption_line.csv*.\n"
   ]
  },
  {
   "cell_type": "markdown",
   "id": "0f12c4f6",
   "metadata": {},
   "source": [
    "**Per tutti**:\n",
    "    \n",
    "Il file di dati  può essere scaricato al seguente indirizzo:\n",
    "* https://raw.githubusercontent.com/s-germani/metodi-computazionali-fisica/main/dati/mcmc/absorption_line.csv\n"
   ]
  },
  {
   "cell_type": "markdown",
   "id": "2bee0f02",
   "metadata": {},
   "source": [
    "## Esercizio 1\n",
    "\n",
    "I dati forniscono Energia ($E$), flusso ($f$) ed incertezza del flusso ($ferr$) di una (fittizia) linea di assorbimento spettrale e pssono essere modellati come:\n",
    "\n",
    "$$\n",
    "f(E) = m\\cdot E + b + \\alpha \\cdot e^{-\\frac{(E-\\mu)^2}{2\\sigma^2}}\n",
    "$$\n",
    "\n"
   ]
  },
  {
   "cell_type": "markdown",
   "id": "b6dfa544",
   "metadata": {},
   "source": [
    "Scivere un script python che esegua l'analisi MCMC dei dati forniti.\n",
    "\n",
    "Assicurarsi di eseguire i seguenti passi:\n",
    "* Leggere i dati e farne il grafico\n",
    "* Definire una funzione per il modello teorico $f(E)$ \n",
    "    * SUGGERIMENTO: fare in modo che tutti i parametri liberi vengano passati come lista o ntupla\n",
    "    * SUGGERIMENTO: confrontarei dati con la funzone teorica attraverso una valuatzione approssimativa dei parametri\n",
    "* Definire la funzione di loglikelihhod \n",
    "* Definire la funzione con il logaritmo della distribuzione  *prior*\n",
    "* Definire la funzione di prbabilità logaritimica \n",
    "    * SUGGERIMENTO: $logprob = logprior + loglikelihood$\n",
    "* Definire il numero di *walker*\n",
    "* Definire la posizione di partena per tutti i walker\n",
    "* Definire un `emcee.EnsembleSampler`\n",
    "* Dopo aver fatto girare il sampler produrre il grafico dei parametri in funzone dei passi\n",
    "* Escludere i passi che risentono della scelta dei parametri iniziali \n",
    "* Confrntare graficamente i dati con alcuni modelli teorici presi dalla  distribuzione *posterior* dei parametri\n",
    "* Produrre un *corner plot*"
   ]
  },
  {
   "cell_type": "markdown",
   "id": "d72b1d99",
   "metadata": {},
   "source": [
    "## Esercizio 2\n",
    "\n",
    "Ripetere lo studio delle'Esercizio 1 senza utilizzare il pacchetto `emcee` ma implementando direttamente l'algoritmo \n",
    "Metropolis-Hastings per la scelta dei passi.\n",
    "\n",
    "SUGGERIMENTI:\n",
    "* Le funzioni per il modello e le probabilità logaritmiche delle'Esercizio 1 possono essere riutilizzate\n",
    "* Definire un funzione per la proosta di uno spostamento (da utilizzare ad ogni passo)\n",
    "    * AVVERTENZA: la dimensine del passo scelto può avere un impatto significativo \n",
    "* Definire una funzione per la valutazione dello spostamento (da utilizzare ad ogni passo)\n",
    "* Fare un ciclo che applihi i passi epr definire la catena delle posizioni nello spazio dei parametri\n",
    "* Ripetere titti i confront grafici dellìEsercizio 1\n"
   ]
  }
 ],
 "metadata": {
  "kernelspec": {
   "display_name": "Python 3 (ipykernel)",
   "language": "python",
   "name": "python3"
  },
  "language_info": {
   "codemirror_mode": {
    "name": "ipython",
    "version": 3
   },
   "file_extension": ".py",
   "mimetype": "text/x-python",
   "name": "python",
   "nbconvert_exporter": "python",
   "pygments_lexer": "ipython3",
   "version": "3.8.10"
  }
 },
 "nbformat": 4,
 "nbformat_minor": 5
}
